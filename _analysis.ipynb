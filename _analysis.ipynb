{
  "cells": [
    {
      "cell_type": "code",
      "execution_count": null,
      "metadata": {
        "colab": {
          "base_uri": "https://localhost:8080/",
          "height": 331
        },
        "id": "T6g26ahdW2wh",
        "outputId": "1e94ce1e-b562-45cd-ab56-5487e53c0c35"
      },
      "outputs": [
        {
          "output_type": "stream",
          "name": "stdout",
          "text": [
            "Drive already mounted at /content/drive; to attempt to forcibly remount, call drive.mount(\"/content/drive\", force_remount=True).\n"
          ]
        },
        {
          "output_type": "execute_result",
          "data": {
            "text/plain": [
              "             id tradingsymbol  instrument_token           timestamps  \\\n",
              "287554  4374999   GOLDSTAR-SM               257  2019-02-21 00:00:00   \n",
              "287555  4375001   GOLDSTAR-SM               257  2019-02-25 00:00:00   \n",
              "287556  4375008   GOLDSTAR-SM               257  2019-03-07 00:00:00   \n",
              "287557  4375010   GOLDSTAR-SM               257  2019-03-19 00:00:00   \n",
              "287558  4375013   GOLDSTAR-SM               257  2019-04-22 00:00:00   \n",
              "\n",
              "        open_price  high_price  low_price  close_price  volume  oi  \\\n",
              "287554        1.30        1.30       1.15         1.25  405000   0   \n",
              "287555        1.15        1.30       1.15         1.30  270000   0   \n",
              "287556        1.20        1.20       1.20         1.20  135000   0   \n",
              "287557        1.15        1.25       1.15         1.25  540000   0   \n",
              "287558        1.15        1.15       1.15         1.15  135000   0   \n",
              "\n",
              "                        created_at  \n",
              "287554  2024-04-04 11:24:44.205169  \n",
              "287555  2024-04-04 11:24:44.205172  \n",
              "287556  2024-04-04 11:24:44.205173  \n",
              "287557  2024-04-04 11:24:44.205174  \n",
              "287558  2024-04-04 11:24:44.205174  "
            ],
            "text/html": [
              "\n",
              "  <div id=\"df-43a87292-5f27-4f8c-9ed5-569ef85e81c2\" class=\"colab-df-container\">\n",
              "    <div>\n",
              "<style scoped>\n",
              "    .dataframe tbody tr th:only-of-type {\n",
              "        vertical-align: middle;\n",
              "    }\n",
              "\n",
              "    .dataframe tbody tr th {\n",
              "        vertical-align: top;\n",
              "    }\n",
              "\n",
              "    .dataframe thead th {\n",
              "        text-align: right;\n",
              "    }\n",
              "</style>\n",
              "<table border=\"1\" class=\"dataframe\">\n",
              "  <thead>\n",
              "    <tr style=\"text-align: right;\">\n",
              "      <th></th>\n",
              "      <th>id</th>\n",
              "      <th>tradingsymbol</th>\n",
              "      <th>instrument_token</th>\n",
              "      <th>timestamps</th>\n",
              "      <th>open_price</th>\n",
              "      <th>high_price</th>\n",
              "      <th>low_price</th>\n",
              "      <th>close_price</th>\n",
              "      <th>volume</th>\n",
              "      <th>oi</th>\n",
              "      <th>created_at</th>\n",
              "    </tr>\n",
              "  </thead>\n",
              "  <tbody>\n",
              "    <tr>\n",
              "      <th>287554</th>\n",
              "      <td>4374999</td>\n",
              "      <td>GOLDSTAR-SM</td>\n",
              "      <td>257</td>\n",
              "      <td>2019-02-21 00:00:00</td>\n",
              "      <td>1.30</td>\n",
              "      <td>1.30</td>\n",
              "      <td>1.15</td>\n",
              "      <td>1.25</td>\n",
              "      <td>405000</td>\n",
              "      <td>0</td>\n",
              "      <td>2024-04-04 11:24:44.205169</td>\n",
              "    </tr>\n",
              "    <tr>\n",
              "      <th>287555</th>\n",
              "      <td>4375001</td>\n",
              "      <td>GOLDSTAR-SM</td>\n",
              "      <td>257</td>\n",
              "      <td>2019-02-25 00:00:00</td>\n",
              "      <td>1.15</td>\n",
              "      <td>1.30</td>\n",
              "      <td>1.15</td>\n",
              "      <td>1.30</td>\n",
              "      <td>270000</td>\n",
              "      <td>0</td>\n",
              "      <td>2024-04-04 11:24:44.205172</td>\n",
              "    </tr>\n",
              "    <tr>\n",
              "      <th>287556</th>\n",
              "      <td>4375008</td>\n",
              "      <td>GOLDSTAR-SM</td>\n",
              "      <td>257</td>\n",
              "      <td>2019-03-07 00:00:00</td>\n",
              "      <td>1.20</td>\n",
              "      <td>1.20</td>\n",
              "      <td>1.20</td>\n",
              "      <td>1.20</td>\n",
              "      <td>135000</td>\n",
              "      <td>0</td>\n",
              "      <td>2024-04-04 11:24:44.205173</td>\n",
              "    </tr>\n",
              "    <tr>\n",
              "      <th>287557</th>\n",
              "      <td>4375010</td>\n",
              "      <td>GOLDSTAR-SM</td>\n",
              "      <td>257</td>\n",
              "      <td>2019-03-19 00:00:00</td>\n",
              "      <td>1.15</td>\n",
              "      <td>1.25</td>\n",
              "      <td>1.15</td>\n",
              "      <td>1.25</td>\n",
              "      <td>540000</td>\n",
              "      <td>0</td>\n",
              "      <td>2024-04-04 11:24:44.205174</td>\n",
              "    </tr>\n",
              "    <tr>\n",
              "      <th>287558</th>\n",
              "      <td>4375013</td>\n",
              "      <td>GOLDSTAR-SM</td>\n",
              "      <td>257</td>\n",
              "      <td>2019-04-22 00:00:00</td>\n",
              "      <td>1.15</td>\n",
              "      <td>1.15</td>\n",
              "      <td>1.15</td>\n",
              "      <td>1.15</td>\n",
              "      <td>135000</td>\n",
              "      <td>0</td>\n",
              "      <td>2024-04-04 11:24:44.205174</td>\n",
              "    </tr>\n",
              "  </tbody>\n",
              "</table>\n",
              "</div>\n",
              "    <div class=\"colab-df-buttons\">\n",
              "\n",
              "  <div class=\"colab-df-container\">\n",
              "    <button class=\"colab-df-convert\" onclick=\"convertToInteractive('df-43a87292-5f27-4f8c-9ed5-569ef85e81c2')\"\n",
              "            title=\"Convert this dataframe to an interactive table.\"\n",
              "            style=\"display:none;\">\n",
              "\n",
              "  <svg xmlns=\"http://www.w3.org/2000/svg\" height=\"24px\" viewBox=\"0 -960 960 960\">\n",
              "    <path d=\"M120-120v-720h720v720H120Zm60-500h600v-160H180v160Zm220 220h160v-160H400v160Zm0 220h160v-160H400v160ZM180-400h160v-160H180v160Zm440 0h160v-160H620v160ZM180-180h160v-160H180v160Zm440 0h160v-160H620v160Z\"/>\n",
              "  </svg>\n",
              "    </button>\n",
              "\n",
              "  <style>\n",
              "    .colab-df-container {\n",
              "      display:flex;\n",
              "      gap: 12px;\n",
              "    }\n",
              "\n",
              "    .colab-df-convert {\n",
              "      background-color: #E8F0FE;\n",
              "      border: none;\n",
              "      border-radius: 50%;\n",
              "      cursor: pointer;\n",
              "      display: none;\n",
              "      fill: #1967D2;\n",
              "      height: 32px;\n",
              "      padding: 0 0 0 0;\n",
              "      width: 32px;\n",
              "    }\n",
              "\n",
              "    .colab-df-convert:hover {\n",
              "      background-color: #E2EBFA;\n",
              "      box-shadow: 0px 1px 2px rgba(60, 64, 67, 0.3), 0px 1px 3px 1px rgba(60, 64, 67, 0.15);\n",
              "      fill: #174EA6;\n",
              "    }\n",
              "\n",
              "    .colab-df-buttons div {\n",
              "      margin-bottom: 4px;\n",
              "    }\n",
              "\n",
              "    [theme=dark] .colab-df-convert {\n",
              "      background-color: #3B4455;\n",
              "      fill: #D2E3FC;\n",
              "    }\n",
              "\n",
              "    [theme=dark] .colab-df-convert:hover {\n",
              "      background-color: #434B5C;\n",
              "      box-shadow: 0px 1px 3px 1px rgba(0, 0, 0, 0.15);\n",
              "      filter: drop-shadow(0px 1px 2px rgba(0, 0, 0, 0.3));\n",
              "      fill: #FFFFFF;\n",
              "    }\n",
              "  </style>\n",
              "\n",
              "    <script>\n",
              "      const buttonEl =\n",
              "        document.querySelector('#df-43a87292-5f27-4f8c-9ed5-569ef85e81c2 button.colab-df-convert');\n",
              "      buttonEl.style.display =\n",
              "        google.colab.kernel.accessAllowed ? 'block' : 'none';\n",
              "\n",
              "      async function convertToInteractive(key) {\n",
              "        const element = document.querySelector('#df-43a87292-5f27-4f8c-9ed5-569ef85e81c2');\n",
              "        const dataTable =\n",
              "          await google.colab.kernel.invokeFunction('convertToInteractive',\n",
              "                                                    [key], {});\n",
              "        if (!dataTable) return;\n",
              "\n",
              "        const docLinkHtml = 'Like what you see? Visit the ' +\n",
              "          '<a target=\"_blank\" href=https://colab.research.google.com/notebooks/data_table.ipynb>data table notebook</a>'\n",
              "          + ' to learn more about interactive tables.';\n",
              "        element.innerHTML = '';\n",
              "        dataTable['output_type'] = 'display_data';\n",
              "        await google.colab.output.renderOutput(dataTable, element);\n",
              "        const docLink = document.createElement('div');\n",
              "        docLink.innerHTML = docLinkHtml;\n",
              "        element.appendChild(docLink);\n",
              "      }\n",
              "    </script>\n",
              "  </div>\n",
              "\n",
              "\n",
              "<div id=\"df-8907fc60-e96d-4dab-9848-59e7695de983\">\n",
              "  <button class=\"colab-df-quickchart\" onclick=\"quickchart('df-8907fc60-e96d-4dab-9848-59e7695de983')\"\n",
              "            title=\"Suggest charts\"\n",
              "            style=\"display:none;\">\n",
              "\n",
              "<svg xmlns=\"http://www.w3.org/2000/svg\" height=\"24px\"viewBox=\"0 0 24 24\"\n",
              "     width=\"24px\">\n",
              "    <g>\n",
              "        <path d=\"M19 3H5c-1.1 0-2 .9-2 2v14c0 1.1.9 2 2 2h14c1.1 0 2-.9 2-2V5c0-1.1-.9-2-2-2zM9 17H7v-7h2v7zm4 0h-2V7h2v10zm4 0h-2v-4h2v4z\"/>\n",
              "    </g>\n",
              "</svg>\n",
              "  </button>\n",
              "\n",
              "<style>\n",
              "  .colab-df-quickchart {\n",
              "      --bg-color: #E8F0FE;\n",
              "      --fill-color: #1967D2;\n",
              "      --hover-bg-color: #E2EBFA;\n",
              "      --hover-fill-color: #174EA6;\n",
              "      --disabled-fill-color: #AAA;\n",
              "      --disabled-bg-color: #DDD;\n",
              "  }\n",
              "\n",
              "  [theme=dark] .colab-df-quickchart {\n",
              "      --bg-color: #3B4455;\n",
              "      --fill-color: #D2E3FC;\n",
              "      --hover-bg-color: #434B5C;\n",
              "      --hover-fill-color: #FFFFFF;\n",
              "      --disabled-bg-color: #3B4455;\n",
              "      --disabled-fill-color: #666;\n",
              "  }\n",
              "\n",
              "  .colab-df-quickchart {\n",
              "    background-color: var(--bg-color);\n",
              "    border: none;\n",
              "    border-radius: 50%;\n",
              "    cursor: pointer;\n",
              "    display: none;\n",
              "    fill: var(--fill-color);\n",
              "    height: 32px;\n",
              "    padding: 0;\n",
              "    width: 32px;\n",
              "  }\n",
              "\n",
              "  .colab-df-quickchart:hover {\n",
              "    background-color: var(--hover-bg-color);\n",
              "    box-shadow: 0 1px 2px rgba(60, 64, 67, 0.3), 0 1px 3px 1px rgba(60, 64, 67, 0.15);\n",
              "    fill: var(--button-hover-fill-color);\n",
              "  }\n",
              "\n",
              "  .colab-df-quickchart-complete:disabled,\n",
              "  .colab-df-quickchart-complete:disabled:hover {\n",
              "    background-color: var(--disabled-bg-color);\n",
              "    fill: var(--disabled-fill-color);\n",
              "    box-shadow: none;\n",
              "  }\n",
              "\n",
              "  .colab-df-spinner {\n",
              "    border: 2px solid var(--fill-color);\n",
              "    border-color: transparent;\n",
              "    border-bottom-color: var(--fill-color);\n",
              "    animation:\n",
              "      spin 1s steps(1) infinite;\n",
              "  }\n",
              "\n",
              "  @keyframes spin {\n",
              "    0% {\n",
              "      border-color: transparent;\n",
              "      border-bottom-color: var(--fill-color);\n",
              "      border-left-color: var(--fill-color);\n",
              "    }\n",
              "    20% {\n",
              "      border-color: transparent;\n",
              "      border-left-color: var(--fill-color);\n",
              "      border-top-color: var(--fill-color);\n",
              "    }\n",
              "    30% {\n",
              "      border-color: transparent;\n",
              "      border-left-color: var(--fill-color);\n",
              "      border-top-color: var(--fill-color);\n",
              "      border-right-color: var(--fill-color);\n",
              "    }\n",
              "    40% {\n",
              "      border-color: transparent;\n",
              "      border-right-color: var(--fill-color);\n",
              "      border-top-color: var(--fill-color);\n",
              "    }\n",
              "    60% {\n",
              "      border-color: transparent;\n",
              "      border-right-color: var(--fill-color);\n",
              "    }\n",
              "    80% {\n",
              "      border-color: transparent;\n",
              "      border-right-color: var(--fill-color);\n",
              "      border-bottom-color: var(--fill-color);\n",
              "    }\n",
              "    90% {\n",
              "      border-color: transparent;\n",
              "      border-bottom-color: var(--fill-color);\n",
              "    }\n",
              "  }\n",
              "</style>\n",
              "\n",
              "  <script>\n",
              "    async function quickchart(key) {\n",
              "      const quickchartButtonEl =\n",
              "        document.querySelector('#' + key + ' button');\n",
              "      quickchartButtonEl.disabled = true;  // To prevent multiple clicks.\n",
              "      quickchartButtonEl.classList.add('colab-df-spinner');\n",
              "      try {\n",
              "        const charts = await google.colab.kernel.invokeFunction(\n",
              "            'suggestCharts', [key], {});\n",
              "      } catch (error) {\n",
              "        console.error('Error during call to suggestCharts:', error);\n",
              "      }\n",
              "      quickchartButtonEl.classList.remove('colab-df-spinner');\n",
              "      quickchartButtonEl.classList.add('colab-df-quickchart-complete');\n",
              "    }\n",
              "    (() => {\n",
              "      let quickchartButtonEl =\n",
              "        document.querySelector('#df-8907fc60-e96d-4dab-9848-59e7695de983 button');\n",
              "      quickchartButtonEl.style.display =\n",
              "        google.colab.kernel.accessAllowed ? 'block' : 'none';\n",
              "    })();\n",
              "  </script>\n",
              "</div>\n",
              "\n",
              "    </div>\n",
              "  </div>\n"
            ],
            "application/vnd.google.colaboratory.intrinsic+json": {
              "type": "dataframe",
              "variable_name": "df"
            }
          },
          "metadata": {},
          "execution_count": 1
        }
      ],
      "source": [
        "import pandas as pd\n",
        "import numpy as np\n",
        "\n",
        "# Mount Google Drive\n",
        "from google.colab import drive\n",
        "drive.mount('/content/drive')\n",
        "\n",
        "# Path to your CSV file in Google Drive\n",
        "file_path = '/content/drive/My Drive/stocks_data/all_stocks_historical_data.csv'\n",
        "\n",
        "\n",
        "# for local connect\n",
        "# file_path = 'all_stocks_historical_data.csv'\n",
        "\n",
        "\n",
        "\n",
        "\n",
        "# Read the CSV file into a DataFrame\n",
        "df = pd.read_csv(file_path)\n",
        "\n",
        "df = df.sort_values(by=['instrument_token', 'timestamps'])\n",
        "\n",
        "# Display the first few rows of the dataframe\n",
        "df.head()"
      ]
    },
    {
      "cell_type": "code",
      "execution_count": null,
      "metadata": {
        "id": "S8tbdoRivc_W"
      },
      "outputs": [],
      "source": [
        "df = df.drop(['oi', 'created_at'], axis=1)"
      ]
    },
    {
      "cell_type": "code",
      "execution_count": null,
      "metadata": {
        "id": "6MGEP_YGKtoz"
      },
      "outputs": [],
      "source": [
        "def print_nan_counts(df):\n",
        "    \"\"\"\n",
        "    This function checks for NaN values in each column of the given DataFrame\n",
        "    and prints the column names along with their NaN counts and percentage of total records.\n",
        "\n",
        "    Parameters:\n",
        "    df (pandas.DataFrame): The DataFrame to check for NaN values.\n",
        "    \"\"\"\n",
        "    total_records = len(df)\n",
        "\n",
        "    # Check for NaN values in each column and get their count\n",
        "    nan_counts = df.isna().sum()\n",
        "\n",
        "    # Filter columns that have NaN values and their counts\n",
        "    nan_columns = nan_counts[nan_counts > 0]\n",
        "\n",
        "    # Calculate the percentage of NaN values in each column\n",
        "    nan_percentages = (nan_columns / total_records) * 100\n",
        "\n",
        "    # Print each column name and its NaN count and percentage explicitly\n",
        "    if nan_columns.empty:\n",
        "        print(\"No NaN values found.\")\n",
        "    else:\n",
        "        for column, count in nan_columns.items():\n",
        "            percentage = nan_percentages[column]\n",
        "            print(f'{column}: {count} ({percentage:.2f}%)')\n"
      ]
    },
    {
      "cell_type": "code",
      "execution_count": null,
      "metadata": {
        "colab": {
          "base_uri": "https://localhost:8080/"
        },
        "id": "V7U3AlqpKxqJ",
        "outputId": "cdf9b8bc-55b1-4654-d7d3-ffb8bf44704a"
      },
      "outputs": [
        {
          "output_type": "stream",
          "name": "stdout",
          "text": [
            "No NaN values found.\n"
          ]
        }
      ],
      "source": [
        "# check nan values in data frame\n",
        "print_nan_counts(df)"
      ]
    },
    {
      "cell_type": "code",
      "execution_count": null,
      "metadata": {
        "colab": {
          "base_uri": "https://localhost:8080/"
        },
        "id": "uzl1OdzrXMnF",
        "outputId": "4920cedc-868e-447a-9315-2de2870f5bfb"
      },
      "outputs": [
        {
          "output_type": "stream",
          "name": "stdout",
          "text": [
            "tradingsymbol        INDIA VIX  NIFTY 50  NIFTY 500  NIFTY AUTO  NIFTY BANK  \\\n",
            "timestamps                                                                    \n",
            "2019-01-02 00:00:00        NaN       NaN        NaN         NaN         NaN   \n",
            "2019-01-03 00:00:00   2.440513 -1.114200  -0.973373   -1.519772   -0.790625   \n",
            "2019-01-04 00:00:00  -3.752233  0.516292   0.444935    0.479050    0.872223   \n",
            "2019-01-07 00:00:00   0.866337  0.414361   0.289898    0.120894    0.402831   \n",
            "2019-01-08 00:00:00  -3.680982  0.281754   0.192707    0.449546    0.750607   \n",
            "\n",
            "tradingsymbol        NIFTY COMMODITIES  NIFTY CONSR DURBL  NIFTY CONSUMPTION  \\\n",
            "timestamps                                                                     \n",
            "2019-01-02 00:00:00                NaN                NaN                NaN   \n",
            "2019-01-03 00:00:00          -2.022829          -0.462382          -0.369373   \n",
            "2019-01-04 00:00:00           1.064911          -0.290619           0.097294   \n",
            "2019-01-07 00:00:00           0.429281           1.194178           0.312880   \n",
            "2019-01-08 00:00:00           0.011957          -0.633703          -0.091797   \n",
            "\n",
            "tradingsymbol        NIFTY CPSE  NIFTY ENERGY  ...  NIFTY IT  NIFTY MEDIA  \\\n",
            "timestamps                                     ...                          \n",
            "2019-01-02 00:00:00         NaN           NaN  ...       NaN          NaN   \n",
            "2019-01-03 00:00:00   -1.709213     -1.597887  ... -0.864879    -1.920882   \n",
            "2019-01-04 00:00:00    1.374682      0.923131  ... -1.228866     1.101658   \n",
            "2019-01-07 00:00:00    0.398691      0.669370  ...  1.027488     0.319552   \n",
            "2019-01-08 00:00:00   -0.053928     -0.217160  ... -0.040584    -1.238525   \n",
            "\n",
            "tradingsymbol        NIFTY METAL  NIFTY MICROCAP250  NIFTY PHARMA  NIFTY PSE  \\\n",
            "timestamps                                                                     \n",
            "2019-01-02 00:00:00          NaN                NaN           NaN        NaN   \n",
            "2019-01-03 00:00:00    -2.247024          -0.847832     -1.330890  -1.586874   \n",
            "2019-01-04 00:00:00     1.395082          -0.158964      0.753815   1.259878   \n",
            "2019-01-07 00:00:00    -0.153246           0.120353     -0.630402   0.541806   \n",
            "2019-01-08 00:00:00     0.440426           0.015384      1.512714  -0.355277   \n",
            "\n",
            "tradingsymbol        NIFTY PSU BANK  NIFTY PVT BANK  NIFTY REALTY  \\\n",
            "timestamps                                                          \n",
            "2019-01-02 00:00:00             NaN             NaN           NaN   \n",
            "2019-01-03 00:00:00       -0.758733       -0.794743     -0.064075   \n",
            "2019-01-04 00:00:00        2.323069        0.815603      0.833511   \n",
            "2019-01-07 00:00:00       -0.511984        0.578654      1.335312   \n",
            "2019-01-08 00:00:00        2.772507        0.839435     -0.020916   \n",
            "\n",
            "tradingsymbol        NIFTY SMLCAP 100  \n",
            "timestamps                             \n",
            "2019-01-02 00:00:00               NaN  \n",
            "2019-01-03 00:00:00         -0.822082  \n",
            "2019-01-04 00:00:00          0.374340  \n",
            "2019-01-07 00:00:00          0.090886  \n",
            "2019-01-08 00:00:00          0.250491  \n",
            "\n",
            "[5 rows x 23 columns]\n"
          ]
        }
      ],
      "source": [
        "# List of trading symbols to filter\n",
        "symbols = ['INDIA VIX', 'NIFTY 50', 'NIFTY 500',\n",
        "       'NIFTY AUTO', 'NIFTY BANK',\n",
        "       'NIFTY COMMODITIES', 'NIFTY CONSR DURBL', 'NIFTY CONSUMPTION',\n",
        "       'NIFTY CPSE', 'NIFTY ENERGY',\n",
        "       'NIFTY FMCG',\n",
        "       'NIFTY HEALTHCARE', 'NIFTY INDIA MFG',\n",
        "        'NIFTY IT',\n",
        "       'NIFTY MEDIA', 'NIFTY METAL', 'NIFTY MICROCAP250',\n",
        "       'NIFTY PHARMA', 'NIFTY PSE', 'NIFTY PSU BANK', 'NIFTY PVT BANK',\n",
        "       'NIFTY REALTY',  'NIFTY SMLCAP 100']\n",
        "\n",
        "# Filter the dataframe for the given symbols\n",
        "filtered_df = df[df['tradingsymbol'].isin(symbols)]\n",
        "\n",
        "# Pivot the dataframe to get each trading symbol as a column\n",
        "pivoted_df = filtered_df.pivot(index='timestamps', columns='tradingsymbol', values='close_price')\n",
        "\n",
        "def g(pivoted_df):\n",
        "    pct_change = pivoted_df.pct_change() * 100\n",
        "    return pct_change.sort_index(axis=0)\n",
        "\n",
        "pivoted_df = g(pivoted_df.copy())\n",
        "\n",
        "\n",
        "# Display the first few rows of the pivoted dataframe\n",
        "print(pivoted_df.head())"
      ]
    },
    {
      "cell_type": "code",
      "execution_count": null,
      "metadata": {
        "colab": {
          "base_uri": "https://localhost:8080/"
        },
        "id": "UYeS9feCY_Ou",
        "outputId": "ac615227-87b4-420a-f086-f66780ba3529"
      },
      "outputs": [
        {
          "output_type": "stream",
          "name": "stdout",
          "text": [
            "        id tradingsymbol  instrument_token           timestamps  open_price  \\\n",
            "0  4374999   GOLDSTAR-SM               257  2019-02-21 00:00:00        1.30   \n",
            "1  4375001   GOLDSTAR-SM               257  2019-02-25 00:00:00        1.15   \n",
            "2  4375008   GOLDSTAR-SM               257  2019-03-07 00:00:00        1.20   \n",
            "3  4375010   GOLDSTAR-SM               257  2019-03-19 00:00:00        1.15   \n",
            "4  4375013   GOLDSTAR-SM               257  2019-04-22 00:00:00        1.15   \n",
            "\n",
            "   high_price  low_price  close_price  volume  INDIA VIX  ...  NIFTY IT  \\\n",
            "0        1.30       1.15         1.25  405000  -5.920281  ... -0.131651   \n",
            "1        1.30       1.15         1.30  270000  -0.582524  ...  2.033829   \n",
            "2        1.20       1.20         1.20  135000  -2.049968  ... -0.972034   \n",
            "3        1.25       1.15         1.25  540000  -2.426036  ...  0.886099   \n",
            "4        1.15       1.15         1.15  135000   5.760774  ...  0.443427   \n",
            "\n",
            "   NIFTY MEDIA  NIFTY METAL  NIFTY MICROCAP250  NIFTY PHARMA  NIFTY PSE  \\\n",
            "0     1.092665     1.126582           1.586086      1.161933   0.301902   \n",
            "1    -0.256801     0.348322           1.131224      0.497002  -0.216763   \n",
            "2    -1.845783    -0.941648           0.407480     -1.194429  -1.119174   \n",
            "3     0.705915    -0.033021           0.166718      0.430747   1.040704   \n",
            "4    -0.903323    -1.792691          -1.235957     -1.322543  -1.997975   \n",
            "\n",
            "   NIFTY PSU BANK  NIFTY PVT BANK  NIFTY REALTY  NIFTY SMLCAP 100  \n",
            "0        0.495871        0.352496      0.393529          1.440182  \n",
            "1       -0.232232        1.117211     -0.729144          0.756081  \n",
            "2        1.408427        0.227117     -0.337767         -0.344787  \n",
            "3        1.873056        0.510477      0.115964          1.000726  \n",
            "4       -2.451247       -2.053578     -2.477811         -1.764380  \n",
            "\n",
            "[5 rows x 32 columns]\n"
          ]
        }
      ],
      "source": [
        "# Ensure timestamps is a column in pivoted_df for merging\n",
        "pivoted_df.reset_index(inplace=True)\n",
        "\n",
        "# Merge the two dataframes on 'timestamps' column\n",
        "# Assuming you want to keep all rows and columns from the original df and just add the closing prices from pivoted_df\n",
        "merged_df = pd.merge(df, pivoted_df, on='timestamps', how='left')\n",
        "\n",
        "# Display the first few rows of the merged dataframe\n",
        "print(merged_df.head())\n"
      ]
    },
    {
      "cell_type": "code",
      "execution_count": null,
      "metadata": {
        "colab": {
          "base_uri": "https://localhost:8080/"
        },
        "id": "Q93V2nP7LK6P",
        "outputId": "9edb882e-0dae-409e-c590-a1bb16b8f4dc"
      },
      "outputs": [
        {
          "output_type": "stream",
          "name": "stdout",
          "text": [
            "INDIA VIX: 1323 (0.06%)\n",
            "NIFTY 50: 1323 (0.06%)\n",
            "NIFTY 500: 1323 (0.06%)\n",
            "NIFTY AUTO: 1323 (0.06%)\n",
            "NIFTY BANK: 1323 (0.06%)\n",
            "NIFTY COMMODITIES: 1323 (0.06%)\n",
            "NIFTY CONSR DURBL: 1323 (0.06%)\n",
            "NIFTY CONSUMPTION: 1323 (0.06%)\n",
            "NIFTY CPSE: 1323 (0.06%)\n",
            "NIFTY ENERGY: 1323 (0.06%)\n",
            "NIFTY FMCG: 1323 (0.06%)\n",
            "NIFTY HEALTHCARE: 1323 (0.06%)\n",
            "NIFTY INDIA MFG: 1323 (0.06%)\n",
            "NIFTY IT: 1323 (0.06%)\n",
            "NIFTY MEDIA: 1323 (0.06%)\n",
            "NIFTY METAL: 1323 (0.06%)\n",
            "NIFTY MICROCAP250: 1323 (0.06%)\n",
            "NIFTY PHARMA: 1323 (0.06%)\n",
            "NIFTY PSE: 1323 (0.06%)\n",
            "NIFTY PSU BANK: 1323 (0.06%)\n",
            "NIFTY PVT BANK: 1323 (0.06%)\n",
            "NIFTY REALTY: 1323 (0.06%)\n",
            "NIFTY SMLCAP 100: 1323 (0.06%)\n"
          ]
        }
      ],
      "source": [
        "# check nan values in data frame\n",
        "print_nan_counts(merged_df)"
      ]
    },
    {
      "cell_type": "code",
      "execution_count": null,
      "metadata": {
        "id": "DHnN8VfIMeWE"
      },
      "outputs": [],
      "source": [
        "def fill_nan_values(df):\n",
        "    \"\"\"\n",
        "    This function fills NaN values in each column of the given DataFrame\n",
        "    with the mean of that column. If the column is entirely NaN, it fills with 0.\n",
        "\n",
        "    Parameters:\n",
        "    df (pandas.DataFrame): The DataFrame in which NaN values will be filled.\n",
        "    \"\"\"\n",
        "    for column in df.columns:\n",
        "        # Check if the column has NaN values\n",
        "        if df[column].isna().sum() > 0:\n",
        "            mean_value = df[column].mean()\n",
        "            # If the mean is NaN (column is entirely NaN), set to 0 or another appropriate value\n",
        "            if pd.isna(mean_value):\n",
        "                df[column].fillna(0, inplace=True)\n",
        "            else:\n",
        "                df[column].fillna(mean_value, inplace=True)\n",
        "\n",
        "    return df\n"
      ]
    },
    {
      "cell_type": "code",
      "execution_count": null,
      "metadata": {
        "colab": {
          "base_uri": "https://localhost:8080/"
        },
        "id": "faqqbCYGOG5Y",
        "outputId": "22c25255-c7d0-4d8e-9592-680c551db453"
      },
      "outputs": [
        {
          "output_type": "stream",
          "name": "stdout",
          "text": [
            "INDIA VIX: 1323 (0.06%)\n",
            "NIFTY 50: 1323 (0.06%)\n",
            "NIFTY 500: 1323 (0.06%)\n",
            "NIFTY AUTO: 1323 (0.06%)\n",
            "NIFTY BANK: 1323 (0.06%)\n",
            "NIFTY COMMODITIES: 1323 (0.06%)\n",
            "NIFTY CONSR DURBL: 1323 (0.06%)\n",
            "NIFTY CONSUMPTION: 1323 (0.06%)\n",
            "NIFTY CPSE: 1323 (0.06%)\n",
            "NIFTY ENERGY: 1323 (0.06%)\n",
            "NIFTY FMCG: 1323 (0.06%)\n",
            "NIFTY HEALTHCARE: 1323 (0.06%)\n",
            "NIFTY INDIA MFG: 1323 (0.06%)\n",
            "NIFTY IT: 1323 (0.06%)\n",
            "NIFTY MEDIA: 1323 (0.06%)\n",
            "NIFTY METAL: 1323 (0.06%)\n",
            "NIFTY MICROCAP250: 1323 (0.06%)\n",
            "NIFTY PHARMA: 1323 (0.06%)\n",
            "NIFTY PSE: 1323 (0.06%)\n",
            "NIFTY PSU BANK: 1323 (0.06%)\n",
            "NIFTY PVT BANK: 1323 (0.06%)\n",
            "NIFTY REALTY: 1323 (0.06%)\n",
            "NIFTY SMLCAP 100: 1323 (0.06%)\n"
          ]
        }
      ],
      "source": [
        "# check nan values in data frame\n",
        "print_nan_counts(merged_df)"
      ]
    },
    {
      "cell_type": "code",
      "execution_count": null,
      "metadata": {
        "colab": {
          "base_uri": "https://localhost:8080/"
        },
        "id": "RhiQjJbmLlua",
        "outputId": "358da406-3770-4958-bae1-c09bc6338ed7"
      },
      "outputs": [
        {
          "output_type": "stream",
          "name": "stdout",
          "text": [
            "Total records: 2259780\n"
          ]
        }
      ],
      "source": [
        "def print_total_records(df):\n",
        "    \"\"\"\n",
        "    This function prints the total number of records in the given DataFrame.\n",
        "\n",
        "    Parameters:\n",
        "    df (pandas.DataFrame): The DataFrame to check the total records of.\n",
        "    \"\"\"\n",
        "    total_records = len(df)\n",
        "    print(f'Total records: {total_records}')\n",
        "\n",
        "print_total_records(merged_df)\n"
      ]
    },
    {
      "cell_type": "code",
      "execution_count": null,
      "metadata": {
        "colab": {
          "base_uri": "https://localhost:8080/",
          "height": 377
        },
        "id": "YiTM1lvuZJZf",
        "outputId": "6d1cacee-a9be-4c79-d575-eeb8023c5c1a"
      },
      "outputs": [
        {
          "output_type": "execute_result",
          "data": {
            "text/plain": [
              "        id tradingsymbol  instrument_token           timestamps  open_price  \\\n",
              "0  4374999   GOLDSTAR-SM               257  2019-02-21 00:00:00        1.30   \n",
              "1  4375001   GOLDSTAR-SM               257  2019-02-25 00:00:00        1.15   \n",
              "2  4375008   GOLDSTAR-SM               257  2019-03-07 00:00:00        1.20   \n",
              "3  4375010   GOLDSTAR-SM               257  2019-03-19 00:00:00        1.15   \n",
              "4  4375013   GOLDSTAR-SM               257  2019-04-22 00:00:00        1.15   \n",
              "\n",
              "   high_price  low_price  close_price  volume  INDIA VIX  ...  NIFTY IT  \\\n",
              "0        1.30       1.15         1.25  405000  -5.920281  ... -0.131651   \n",
              "1        1.30       1.15         1.30  270000  -0.582524  ...  2.033829   \n",
              "2        1.20       1.20         1.20  135000  -2.049968  ... -0.972034   \n",
              "3        1.25       1.15         1.25  540000  -2.426036  ...  0.886099   \n",
              "4        1.15       1.15         1.15  135000   5.760774  ...  0.443427   \n",
              "\n",
              "   NIFTY MEDIA  NIFTY METAL  NIFTY MICROCAP250  NIFTY PHARMA  NIFTY PSE  \\\n",
              "0     1.092665     1.126582           1.586086      1.161933   0.301902   \n",
              "1    -0.256801     0.348322           1.131224      0.497002  -0.216763   \n",
              "2    -1.845783    -0.941648           0.407480     -1.194429  -1.119174   \n",
              "3     0.705915    -0.033021           0.166718      0.430747   1.040704   \n",
              "4    -0.903323    -1.792691          -1.235957     -1.322543  -1.997975   \n",
              "\n",
              "   NIFTY PSU BANK  NIFTY PVT BANK  NIFTY REALTY  NIFTY SMLCAP 100  \n",
              "0        0.495871        0.352496      0.393529          1.440182  \n",
              "1       -0.232232        1.117211     -0.729144          0.756081  \n",
              "2        1.408427        0.227117     -0.337767         -0.344787  \n",
              "3        1.873056        0.510477      0.115964          1.000726  \n",
              "4       -2.451247       -2.053578     -2.477811         -1.764380  \n",
              "\n",
              "[5 rows x 32 columns]"
            ],
            "text/html": [
              "\n",
              "  <div id=\"df-bd9d56b2-efd5-49ee-a3bc-d6d40eb54f73\" class=\"colab-df-container\">\n",
              "    <div>\n",
              "<style scoped>\n",
              "    .dataframe tbody tr th:only-of-type {\n",
              "        vertical-align: middle;\n",
              "    }\n",
              "\n",
              "    .dataframe tbody tr th {\n",
              "        vertical-align: top;\n",
              "    }\n",
              "\n",
              "    .dataframe thead th {\n",
              "        text-align: right;\n",
              "    }\n",
              "</style>\n",
              "<table border=\"1\" class=\"dataframe\">\n",
              "  <thead>\n",
              "    <tr style=\"text-align: right;\">\n",
              "      <th></th>\n",
              "      <th>id</th>\n",
              "      <th>tradingsymbol</th>\n",
              "      <th>instrument_token</th>\n",
              "      <th>timestamps</th>\n",
              "      <th>open_price</th>\n",
              "      <th>high_price</th>\n",
              "      <th>low_price</th>\n",
              "      <th>close_price</th>\n",
              "      <th>volume</th>\n",
              "      <th>INDIA VIX</th>\n",
              "      <th>...</th>\n",
              "      <th>NIFTY IT</th>\n",
              "      <th>NIFTY MEDIA</th>\n",
              "      <th>NIFTY METAL</th>\n",
              "      <th>NIFTY MICROCAP250</th>\n",
              "      <th>NIFTY PHARMA</th>\n",
              "      <th>NIFTY PSE</th>\n",
              "      <th>NIFTY PSU BANK</th>\n",
              "      <th>NIFTY PVT BANK</th>\n",
              "      <th>NIFTY REALTY</th>\n",
              "      <th>NIFTY SMLCAP 100</th>\n",
              "    </tr>\n",
              "  </thead>\n",
              "  <tbody>\n",
              "    <tr>\n",
              "      <th>0</th>\n",
              "      <td>4374999</td>\n",
              "      <td>GOLDSTAR-SM</td>\n",
              "      <td>257</td>\n",
              "      <td>2019-02-21 00:00:00</td>\n",
              "      <td>1.30</td>\n",
              "      <td>1.30</td>\n",
              "      <td>1.15</td>\n",
              "      <td>1.25</td>\n",
              "      <td>405000</td>\n",
              "      <td>-5.920281</td>\n",
              "      <td>...</td>\n",
              "      <td>-0.131651</td>\n",
              "      <td>1.092665</td>\n",
              "      <td>1.126582</td>\n",
              "      <td>1.586086</td>\n",
              "      <td>1.161933</td>\n",
              "      <td>0.301902</td>\n",
              "      <td>0.495871</td>\n",
              "      <td>0.352496</td>\n",
              "      <td>0.393529</td>\n",
              "      <td>1.440182</td>\n",
              "    </tr>\n",
              "    <tr>\n",
              "      <th>1</th>\n",
              "      <td>4375001</td>\n",
              "      <td>GOLDSTAR-SM</td>\n",
              "      <td>257</td>\n",
              "      <td>2019-02-25 00:00:00</td>\n",
              "      <td>1.15</td>\n",
              "      <td>1.30</td>\n",
              "      <td>1.15</td>\n",
              "      <td>1.30</td>\n",
              "      <td>270000</td>\n",
              "      <td>-0.582524</td>\n",
              "      <td>...</td>\n",
              "      <td>2.033829</td>\n",
              "      <td>-0.256801</td>\n",
              "      <td>0.348322</td>\n",
              "      <td>1.131224</td>\n",
              "      <td>0.497002</td>\n",
              "      <td>-0.216763</td>\n",
              "      <td>-0.232232</td>\n",
              "      <td>1.117211</td>\n",
              "      <td>-0.729144</td>\n",
              "      <td>0.756081</td>\n",
              "    </tr>\n",
              "    <tr>\n",
              "      <th>2</th>\n",
              "      <td>4375008</td>\n",
              "      <td>GOLDSTAR-SM</td>\n",
              "      <td>257</td>\n",
              "      <td>2019-03-07 00:00:00</td>\n",
              "      <td>1.20</td>\n",
              "      <td>1.20</td>\n",
              "      <td>1.20</td>\n",
              "      <td>1.20</td>\n",
              "      <td>135000</td>\n",
              "      <td>-2.049968</td>\n",
              "      <td>...</td>\n",
              "      <td>-0.972034</td>\n",
              "      <td>-1.845783</td>\n",
              "      <td>-0.941648</td>\n",
              "      <td>0.407480</td>\n",
              "      <td>-1.194429</td>\n",
              "      <td>-1.119174</td>\n",
              "      <td>1.408427</td>\n",
              "      <td>0.227117</td>\n",
              "      <td>-0.337767</td>\n",
              "      <td>-0.344787</td>\n",
              "    </tr>\n",
              "    <tr>\n",
              "      <th>3</th>\n",
              "      <td>4375010</td>\n",
              "      <td>GOLDSTAR-SM</td>\n",
              "      <td>257</td>\n",
              "      <td>2019-03-19 00:00:00</td>\n",
              "      <td>1.15</td>\n",
              "      <td>1.25</td>\n",
              "      <td>1.15</td>\n",
              "      <td>1.25</td>\n",
              "      <td>540000</td>\n",
              "      <td>-2.426036</td>\n",
              "      <td>...</td>\n",
              "      <td>0.886099</td>\n",
              "      <td>0.705915</td>\n",
              "      <td>-0.033021</td>\n",
              "      <td>0.166718</td>\n",
              "      <td>0.430747</td>\n",
              "      <td>1.040704</td>\n",
              "      <td>1.873056</td>\n",
              "      <td>0.510477</td>\n",
              "      <td>0.115964</td>\n",
              "      <td>1.000726</td>\n",
              "    </tr>\n",
              "    <tr>\n",
              "      <th>4</th>\n",
              "      <td>4375013</td>\n",
              "      <td>GOLDSTAR-SM</td>\n",
              "      <td>257</td>\n",
              "      <td>2019-04-22 00:00:00</td>\n",
              "      <td>1.15</td>\n",
              "      <td>1.15</td>\n",
              "      <td>1.15</td>\n",
              "      <td>1.15</td>\n",
              "      <td>135000</td>\n",
              "      <td>5.760774</td>\n",
              "      <td>...</td>\n",
              "      <td>0.443427</td>\n",
              "      <td>-0.903323</td>\n",
              "      <td>-1.792691</td>\n",
              "      <td>-1.235957</td>\n",
              "      <td>-1.322543</td>\n",
              "      <td>-1.997975</td>\n",
              "      <td>-2.451247</td>\n",
              "      <td>-2.053578</td>\n",
              "      <td>-2.477811</td>\n",
              "      <td>-1.764380</td>\n",
              "    </tr>\n",
              "  </tbody>\n",
              "</table>\n",
              "<p>5 rows × 32 columns</p>\n",
              "</div>\n",
              "    <div class=\"colab-df-buttons\">\n",
              "\n",
              "  <div class=\"colab-df-container\">\n",
              "    <button class=\"colab-df-convert\" onclick=\"convertToInteractive('df-bd9d56b2-efd5-49ee-a3bc-d6d40eb54f73')\"\n",
              "            title=\"Convert this dataframe to an interactive table.\"\n",
              "            style=\"display:none;\">\n",
              "\n",
              "  <svg xmlns=\"http://www.w3.org/2000/svg\" height=\"24px\" viewBox=\"0 -960 960 960\">\n",
              "    <path d=\"M120-120v-720h720v720H120Zm60-500h600v-160H180v160Zm220 220h160v-160H400v160Zm0 220h160v-160H400v160ZM180-400h160v-160H180v160Zm440 0h160v-160H620v160ZM180-180h160v-160H180v160Zm440 0h160v-160H620v160Z\"/>\n",
              "  </svg>\n",
              "    </button>\n",
              "\n",
              "  <style>\n",
              "    .colab-df-container {\n",
              "      display:flex;\n",
              "      gap: 12px;\n",
              "    }\n",
              "\n",
              "    .colab-df-convert {\n",
              "      background-color: #E8F0FE;\n",
              "      border: none;\n",
              "      border-radius: 50%;\n",
              "      cursor: pointer;\n",
              "      display: none;\n",
              "      fill: #1967D2;\n",
              "      height: 32px;\n",
              "      padding: 0 0 0 0;\n",
              "      width: 32px;\n",
              "    }\n",
              "\n",
              "    .colab-df-convert:hover {\n",
              "      background-color: #E2EBFA;\n",
              "      box-shadow: 0px 1px 2px rgba(60, 64, 67, 0.3), 0px 1px 3px 1px rgba(60, 64, 67, 0.15);\n",
              "      fill: #174EA6;\n",
              "    }\n",
              "\n",
              "    .colab-df-buttons div {\n",
              "      margin-bottom: 4px;\n",
              "    }\n",
              "\n",
              "    [theme=dark] .colab-df-convert {\n",
              "      background-color: #3B4455;\n",
              "      fill: #D2E3FC;\n",
              "    }\n",
              "\n",
              "    [theme=dark] .colab-df-convert:hover {\n",
              "      background-color: #434B5C;\n",
              "      box-shadow: 0px 1px 3px 1px rgba(0, 0, 0, 0.15);\n",
              "      filter: drop-shadow(0px 1px 2px rgba(0, 0, 0, 0.3));\n",
              "      fill: #FFFFFF;\n",
              "    }\n",
              "  </style>\n",
              "\n",
              "    <script>\n",
              "      const buttonEl =\n",
              "        document.querySelector('#df-bd9d56b2-efd5-49ee-a3bc-d6d40eb54f73 button.colab-df-convert');\n",
              "      buttonEl.style.display =\n",
              "        google.colab.kernel.accessAllowed ? 'block' : 'none';\n",
              "\n",
              "      async function convertToInteractive(key) {\n",
              "        const element = document.querySelector('#df-bd9d56b2-efd5-49ee-a3bc-d6d40eb54f73');\n",
              "        const dataTable =\n",
              "          await google.colab.kernel.invokeFunction('convertToInteractive',\n",
              "                                                    [key], {});\n",
              "        if (!dataTable) return;\n",
              "\n",
              "        const docLinkHtml = 'Like what you see? Visit the ' +\n",
              "          '<a target=\"_blank\" href=https://colab.research.google.com/notebooks/data_table.ipynb>data table notebook</a>'\n",
              "          + ' to learn more about interactive tables.';\n",
              "        element.innerHTML = '';\n",
              "        dataTable['output_type'] = 'display_data';\n",
              "        await google.colab.output.renderOutput(dataTable, element);\n",
              "        const docLink = document.createElement('div');\n",
              "        docLink.innerHTML = docLinkHtml;\n",
              "        element.appendChild(docLink);\n",
              "      }\n",
              "    </script>\n",
              "  </div>\n",
              "\n",
              "\n",
              "<div id=\"df-b3749f93-4854-4314-80f0-65edff47e5c5\">\n",
              "  <button class=\"colab-df-quickchart\" onclick=\"quickchart('df-b3749f93-4854-4314-80f0-65edff47e5c5')\"\n",
              "            title=\"Suggest charts\"\n",
              "            style=\"display:none;\">\n",
              "\n",
              "<svg xmlns=\"http://www.w3.org/2000/svg\" height=\"24px\"viewBox=\"0 0 24 24\"\n",
              "     width=\"24px\">\n",
              "    <g>\n",
              "        <path d=\"M19 3H5c-1.1 0-2 .9-2 2v14c0 1.1.9 2 2 2h14c1.1 0 2-.9 2-2V5c0-1.1-.9-2-2-2zM9 17H7v-7h2v7zm4 0h-2V7h2v10zm4 0h-2v-4h2v4z\"/>\n",
              "    </g>\n",
              "</svg>\n",
              "  </button>\n",
              "\n",
              "<style>\n",
              "  .colab-df-quickchart {\n",
              "      --bg-color: #E8F0FE;\n",
              "      --fill-color: #1967D2;\n",
              "      --hover-bg-color: #E2EBFA;\n",
              "      --hover-fill-color: #174EA6;\n",
              "      --disabled-fill-color: #AAA;\n",
              "      --disabled-bg-color: #DDD;\n",
              "  }\n",
              "\n",
              "  [theme=dark] .colab-df-quickchart {\n",
              "      --bg-color: #3B4455;\n",
              "      --fill-color: #D2E3FC;\n",
              "      --hover-bg-color: #434B5C;\n",
              "      --hover-fill-color: #FFFFFF;\n",
              "      --disabled-bg-color: #3B4455;\n",
              "      --disabled-fill-color: #666;\n",
              "  }\n",
              "\n",
              "  .colab-df-quickchart {\n",
              "    background-color: var(--bg-color);\n",
              "    border: none;\n",
              "    border-radius: 50%;\n",
              "    cursor: pointer;\n",
              "    display: none;\n",
              "    fill: var(--fill-color);\n",
              "    height: 32px;\n",
              "    padding: 0;\n",
              "    width: 32px;\n",
              "  }\n",
              "\n",
              "  .colab-df-quickchart:hover {\n",
              "    background-color: var(--hover-bg-color);\n",
              "    box-shadow: 0 1px 2px rgba(60, 64, 67, 0.3), 0 1px 3px 1px rgba(60, 64, 67, 0.15);\n",
              "    fill: var(--button-hover-fill-color);\n",
              "  }\n",
              "\n",
              "  .colab-df-quickchart-complete:disabled,\n",
              "  .colab-df-quickchart-complete:disabled:hover {\n",
              "    background-color: var(--disabled-bg-color);\n",
              "    fill: var(--disabled-fill-color);\n",
              "    box-shadow: none;\n",
              "  }\n",
              "\n",
              "  .colab-df-spinner {\n",
              "    border: 2px solid var(--fill-color);\n",
              "    border-color: transparent;\n",
              "    border-bottom-color: var(--fill-color);\n",
              "    animation:\n",
              "      spin 1s steps(1) infinite;\n",
              "  }\n",
              "\n",
              "  @keyframes spin {\n",
              "    0% {\n",
              "      border-color: transparent;\n",
              "      border-bottom-color: var(--fill-color);\n",
              "      border-left-color: var(--fill-color);\n",
              "    }\n",
              "    20% {\n",
              "      border-color: transparent;\n",
              "      border-left-color: var(--fill-color);\n",
              "      border-top-color: var(--fill-color);\n",
              "    }\n",
              "    30% {\n",
              "      border-color: transparent;\n",
              "      border-left-color: var(--fill-color);\n",
              "      border-top-color: var(--fill-color);\n",
              "      border-right-color: var(--fill-color);\n",
              "    }\n",
              "    40% {\n",
              "      border-color: transparent;\n",
              "      border-right-color: var(--fill-color);\n",
              "      border-top-color: var(--fill-color);\n",
              "    }\n",
              "    60% {\n",
              "      border-color: transparent;\n",
              "      border-right-color: var(--fill-color);\n",
              "    }\n",
              "    80% {\n",
              "      border-color: transparent;\n",
              "      border-right-color: var(--fill-color);\n",
              "      border-bottom-color: var(--fill-color);\n",
              "    }\n",
              "    90% {\n",
              "      border-color: transparent;\n",
              "      border-bottom-color: var(--fill-color);\n",
              "    }\n",
              "  }\n",
              "</style>\n",
              "\n",
              "  <script>\n",
              "    async function quickchart(key) {\n",
              "      const quickchartButtonEl =\n",
              "        document.querySelector('#' + key + ' button');\n",
              "      quickchartButtonEl.disabled = true;  // To prevent multiple clicks.\n",
              "      quickchartButtonEl.classList.add('colab-df-spinner');\n",
              "      try {\n",
              "        const charts = await google.colab.kernel.invokeFunction(\n",
              "            'suggestCharts', [key], {});\n",
              "      } catch (error) {\n",
              "        console.error('Error during call to suggestCharts:', error);\n",
              "      }\n",
              "      quickchartButtonEl.classList.remove('colab-df-spinner');\n",
              "      quickchartButtonEl.classList.add('colab-df-quickchart-complete');\n",
              "    }\n",
              "    (() => {\n",
              "      let quickchartButtonEl =\n",
              "        document.querySelector('#df-b3749f93-4854-4314-80f0-65edff47e5c5 button');\n",
              "      quickchartButtonEl.style.display =\n",
              "        google.colab.kernel.accessAllowed ? 'block' : 'none';\n",
              "    })();\n",
              "  </script>\n",
              "</div>\n",
              "\n",
              "    </div>\n",
              "  </div>\n"
            ],
            "application/vnd.google.colaboratory.intrinsic+json": {
              "type": "dataframe",
              "variable_name": "merged_df"
            }
          },
          "metadata": {},
          "execution_count": 11
        }
      ],
      "source": [
        "# Sort the dataframe by 'timestamps' column in ascending order (oldest to newest)\n",
        "merged_df = merged_df.sort_values(by=['instrument_token', 'timestamps'])\n",
        "\n",
        "# Display the first few rows of the sorted dataframe\n",
        "merged_df.head()\n"
      ]
    },
    {
      "cell_type": "code",
      "execution_count": null,
      "metadata": {
        "colab": {
          "base_uri": "https://localhost:8080/",
          "height": 377
        },
        "id": "vb1UgjSRZYKU",
        "outputId": "129910bf-2aae-4010-a3b6-16159fb19d79"
      },
      "outputs": [
        {
          "output_type": "execute_result",
          "data": {
            "text/plain": [
              "              id tradingsymbol  instrument_token           timestamps  \\\n",
              "2259775  3083580         SREEL           8150273  2024-03-28 00:00:00   \n",
              "2259776  3083584         SREEL           8150273  2024-04-01 00:00:00   \n",
              "2259777  3083588         SREEL           8150273  2024-04-02 00:00:00   \n",
              "2259778  3083592         SREEL           8150273  2024-04-03 00:00:00   \n",
              "2259779  3083598         SREEL           8150273  2024-04-04 00:00:00   \n",
              "\n",
              "         open_price  high_price  low_price  close_price  volume  INDIA VIX  \\\n",
              "2259775      283.00      288.15     270.55       276.40   17496   1.023622   \n",
              "2259776      276.50      306.00     276.50       292.05   20563  -5.845674   \n",
              "2259777      293.55      300.05     287.95       296.65   20317  -3.559603   \n",
              "2259778      296.65      310.20     295.45       307.80   20637  -2.403433   \n",
              "2259779      309.40      318.10     304.35       306.00   10655  -0.967458   \n",
              "\n",
              "         ...  NIFTY IT  NIFTY MEDIA  NIFTY METAL  NIFTY MICROCAP250  \\\n",
              "2259775  ...  0.442662    -0.704965     1.253840           0.177805   \n",
              "2259776  ...  0.414492     4.688588     3.699801           3.404479   \n",
              "2259777  ... -0.710132     1.853674     1.496607           1.710084   \n",
              "2259778  ...  0.728431     0.571831     0.004027           1.566986   \n",
              "2259779  ...  1.146875    -0.119428     0.090897           0.574264   \n",
              "\n",
              "         NIFTY PHARMA  NIFTY PSE  NIFTY PSU BANK  NIFTY PVT BANK  \\\n",
              "2259775      1.213476   1.401726        2.616954        0.350394   \n",
              "2259776      1.114700   1.865788        1.512719        1.027558   \n",
              "2259777     -0.118441   1.668039        0.882859       -0.065762   \n",
              "2259778     -0.167317   0.857383        1.780924       -0.148640   \n",
              "2259779     -0.066308  -0.501661       -0.473038        1.249426   \n",
              "\n",
              "         NIFTY REALTY  NIFTY SMLCAP 100  \n",
              "2259775      0.547028          0.042912  \n",
              "2259776      4.357964          3.260873  \n",
              "2259777      1.005426          1.221113  \n",
              "2259778     -2.580713          1.161898  \n",
              "2259779      0.102719          0.530459  \n",
              "\n",
              "[5 rows x 32 columns]"
            ],
            "text/html": [
              "\n",
              "  <div id=\"df-caacd6b9-aeb2-41c1-9e38-cc848ad8ae6e\" class=\"colab-df-container\">\n",
              "    <div>\n",
              "<style scoped>\n",
              "    .dataframe tbody tr th:only-of-type {\n",
              "        vertical-align: middle;\n",
              "    }\n",
              "\n",
              "    .dataframe tbody tr th {\n",
              "        vertical-align: top;\n",
              "    }\n",
              "\n",
              "    .dataframe thead th {\n",
              "        text-align: right;\n",
              "    }\n",
              "</style>\n",
              "<table border=\"1\" class=\"dataframe\">\n",
              "  <thead>\n",
              "    <tr style=\"text-align: right;\">\n",
              "      <th></th>\n",
              "      <th>id</th>\n",
              "      <th>tradingsymbol</th>\n",
              "      <th>instrument_token</th>\n",
              "      <th>timestamps</th>\n",
              "      <th>open_price</th>\n",
              "      <th>high_price</th>\n",
              "      <th>low_price</th>\n",
              "      <th>close_price</th>\n",
              "      <th>volume</th>\n",
              "      <th>INDIA VIX</th>\n",
              "      <th>...</th>\n",
              "      <th>NIFTY IT</th>\n",
              "      <th>NIFTY MEDIA</th>\n",
              "      <th>NIFTY METAL</th>\n",
              "      <th>NIFTY MICROCAP250</th>\n",
              "      <th>NIFTY PHARMA</th>\n",
              "      <th>NIFTY PSE</th>\n",
              "      <th>NIFTY PSU BANK</th>\n",
              "      <th>NIFTY PVT BANK</th>\n",
              "      <th>NIFTY REALTY</th>\n",
              "      <th>NIFTY SMLCAP 100</th>\n",
              "    </tr>\n",
              "  </thead>\n",
              "  <tbody>\n",
              "    <tr>\n",
              "      <th>2259775</th>\n",
              "      <td>3083580</td>\n",
              "      <td>SREEL</td>\n",
              "      <td>8150273</td>\n",
              "      <td>2024-03-28 00:00:00</td>\n",
              "      <td>283.00</td>\n",
              "      <td>288.15</td>\n",
              "      <td>270.55</td>\n",
              "      <td>276.40</td>\n",
              "      <td>17496</td>\n",
              "      <td>1.023622</td>\n",
              "      <td>...</td>\n",
              "      <td>0.442662</td>\n",
              "      <td>-0.704965</td>\n",
              "      <td>1.253840</td>\n",
              "      <td>0.177805</td>\n",
              "      <td>1.213476</td>\n",
              "      <td>1.401726</td>\n",
              "      <td>2.616954</td>\n",
              "      <td>0.350394</td>\n",
              "      <td>0.547028</td>\n",
              "      <td>0.042912</td>\n",
              "    </tr>\n",
              "    <tr>\n",
              "      <th>2259776</th>\n",
              "      <td>3083584</td>\n",
              "      <td>SREEL</td>\n",
              "      <td>8150273</td>\n",
              "      <td>2024-04-01 00:00:00</td>\n",
              "      <td>276.50</td>\n",
              "      <td>306.00</td>\n",
              "      <td>276.50</td>\n",
              "      <td>292.05</td>\n",
              "      <td>20563</td>\n",
              "      <td>-5.845674</td>\n",
              "      <td>...</td>\n",
              "      <td>0.414492</td>\n",
              "      <td>4.688588</td>\n",
              "      <td>3.699801</td>\n",
              "      <td>3.404479</td>\n",
              "      <td>1.114700</td>\n",
              "      <td>1.865788</td>\n",
              "      <td>1.512719</td>\n",
              "      <td>1.027558</td>\n",
              "      <td>4.357964</td>\n",
              "      <td>3.260873</td>\n",
              "    </tr>\n",
              "    <tr>\n",
              "      <th>2259777</th>\n",
              "      <td>3083588</td>\n",
              "      <td>SREEL</td>\n",
              "      <td>8150273</td>\n",
              "      <td>2024-04-02 00:00:00</td>\n",
              "      <td>293.55</td>\n",
              "      <td>300.05</td>\n",
              "      <td>287.95</td>\n",
              "      <td>296.65</td>\n",
              "      <td>20317</td>\n",
              "      <td>-3.559603</td>\n",
              "      <td>...</td>\n",
              "      <td>-0.710132</td>\n",
              "      <td>1.853674</td>\n",
              "      <td>1.496607</td>\n",
              "      <td>1.710084</td>\n",
              "      <td>-0.118441</td>\n",
              "      <td>1.668039</td>\n",
              "      <td>0.882859</td>\n",
              "      <td>-0.065762</td>\n",
              "      <td>1.005426</td>\n",
              "      <td>1.221113</td>\n",
              "    </tr>\n",
              "    <tr>\n",
              "      <th>2259778</th>\n",
              "      <td>3083592</td>\n",
              "      <td>SREEL</td>\n",
              "      <td>8150273</td>\n",
              "      <td>2024-04-03 00:00:00</td>\n",
              "      <td>296.65</td>\n",
              "      <td>310.20</td>\n",
              "      <td>295.45</td>\n",
              "      <td>307.80</td>\n",
              "      <td>20637</td>\n",
              "      <td>-2.403433</td>\n",
              "      <td>...</td>\n",
              "      <td>0.728431</td>\n",
              "      <td>0.571831</td>\n",
              "      <td>0.004027</td>\n",
              "      <td>1.566986</td>\n",
              "      <td>-0.167317</td>\n",
              "      <td>0.857383</td>\n",
              "      <td>1.780924</td>\n",
              "      <td>-0.148640</td>\n",
              "      <td>-2.580713</td>\n",
              "      <td>1.161898</td>\n",
              "    </tr>\n",
              "    <tr>\n",
              "      <th>2259779</th>\n",
              "      <td>3083598</td>\n",
              "      <td>SREEL</td>\n",
              "      <td>8150273</td>\n",
              "      <td>2024-04-04 00:00:00</td>\n",
              "      <td>309.40</td>\n",
              "      <td>318.10</td>\n",
              "      <td>304.35</td>\n",
              "      <td>306.00</td>\n",
              "      <td>10655</td>\n",
              "      <td>-0.967458</td>\n",
              "      <td>...</td>\n",
              "      <td>1.146875</td>\n",
              "      <td>-0.119428</td>\n",
              "      <td>0.090897</td>\n",
              "      <td>0.574264</td>\n",
              "      <td>-0.066308</td>\n",
              "      <td>-0.501661</td>\n",
              "      <td>-0.473038</td>\n",
              "      <td>1.249426</td>\n",
              "      <td>0.102719</td>\n",
              "      <td>0.530459</td>\n",
              "    </tr>\n",
              "  </tbody>\n",
              "</table>\n",
              "<p>5 rows × 32 columns</p>\n",
              "</div>\n",
              "    <div class=\"colab-df-buttons\">\n",
              "\n",
              "  <div class=\"colab-df-container\">\n",
              "    <button class=\"colab-df-convert\" onclick=\"convertToInteractive('df-caacd6b9-aeb2-41c1-9e38-cc848ad8ae6e')\"\n",
              "            title=\"Convert this dataframe to an interactive table.\"\n",
              "            style=\"display:none;\">\n",
              "\n",
              "  <svg xmlns=\"http://www.w3.org/2000/svg\" height=\"24px\" viewBox=\"0 -960 960 960\">\n",
              "    <path d=\"M120-120v-720h720v720H120Zm60-500h600v-160H180v160Zm220 220h160v-160H400v160Zm0 220h160v-160H400v160ZM180-400h160v-160H180v160Zm440 0h160v-160H620v160ZM180-180h160v-160H180v160Zm440 0h160v-160H620v160Z\"/>\n",
              "  </svg>\n",
              "    </button>\n",
              "\n",
              "  <style>\n",
              "    .colab-df-container {\n",
              "      display:flex;\n",
              "      gap: 12px;\n",
              "    }\n",
              "\n",
              "    .colab-df-convert {\n",
              "      background-color: #E8F0FE;\n",
              "      border: none;\n",
              "      border-radius: 50%;\n",
              "      cursor: pointer;\n",
              "      display: none;\n",
              "      fill: #1967D2;\n",
              "      height: 32px;\n",
              "      padding: 0 0 0 0;\n",
              "      width: 32px;\n",
              "    }\n",
              "\n",
              "    .colab-df-convert:hover {\n",
              "      background-color: #E2EBFA;\n",
              "      box-shadow: 0px 1px 2px rgba(60, 64, 67, 0.3), 0px 1px 3px 1px rgba(60, 64, 67, 0.15);\n",
              "      fill: #174EA6;\n",
              "    }\n",
              "\n",
              "    .colab-df-buttons div {\n",
              "      margin-bottom: 4px;\n",
              "    }\n",
              "\n",
              "    [theme=dark] .colab-df-convert {\n",
              "      background-color: #3B4455;\n",
              "      fill: #D2E3FC;\n",
              "    }\n",
              "\n",
              "    [theme=dark] .colab-df-convert:hover {\n",
              "      background-color: #434B5C;\n",
              "      box-shadow: 0px 1px 3px 1px rgba(0, 0, 0, 0.15);\n",
              "      filter: drop-shadow(0px 1px 2px rgba(0, 0, 0, 0.3));\n",
              "      fill: #FFFFFF;\n",
              "    }\n",
              "  </style>\n",
              "\n",
              "    <script>\n",
              "      const buttonEl =\n",
              "        document.querySelector('#df-caacd6b9-aeb2-41c1-9e38-cc848ad8ae6e button.colab-df-convert');\n",
              "      buttonEl.style.display =\n",
              "        google.colab.kernel.accessAllowed ? 'block' : 'none';\n",
              "\n",
              "      async function convertToInteractive(key) {\n",
              "        const element = document.querySelector('#df-caacd6b9-aeb2-41c1-9e38-cc848ad8ae6e');\n",
              "        const dataTable =\n",
              "          await google.colab.kernel.invokeFunction('convertToInteractive',\n",
              "                                                    [key], {});\n",
              "        if (!dataTable) return;\n",
              "\n",
              "        const docLinkHtml = 'Like what you see? Visit the ' +\n",
              "          '<a target=\"_blank\" href=https://colab.research.google.com/notebooks/data_table.ipynb>data table notebook</a>'\n",
              "          + ' to learn more about interactive tables.';\n",
              "        element.innerHTML = '';\n",
              "        dataTable['output_type'] = 'display_data';\n",
              "        await google.colab.output.renderOutput(dataTable, element);\n",
              "        const docLink = document.createElement('div');\n",
              "        docLink.innerHTML = docLinkHtml;\n",
              "        element.appendChild(docLink);\n",
              "      }\n",
              "    </script>\n",
              "  </div>\n",
              "\n",
              "\n",
              "<div id=\"df-c560db55-c85d-4109-8766-432401c48b98\">\n",
              "  <button class=\"colab-df-quickchart\" onclick=\"quickchart('df-c560db55-c85d-4109-8766-432401c48b98')\"\n",
              "            title=\"Suggest charts\"\n",
              "            style=\"display:none;\">\n",
              "\n",
              "<svg xmlns=\"http://www.w3.org/2000/svg\" height=\"24px\"viewBox=\"0 0 24 24\"\n",
              "     width=\"24px\">\n",
              "    <g>\n",
              "        <path d=\"M19 3H5c-1.1 0-2 .9-2 2v14c0 1.1.9 2 2 2h14c1.1 0 2-.9 2-2V5c0-1.1-.9-2-2-2zM9 17H7v-7h2v7zm4 0h-2V7h2v10zm4 0h-2v-4h2v4z\"/>\n",
              "    </g>\n",
              "</svg>\n",
              "  </button>\n",
              "\n",
              "<style>\n",
              "  .colab-df-quickchart {\n",
              "      --bg-color: #E8F0FE;\n",
              "      --fill-color: #1967D2;\n",
              "      --hover-bg-color: #E2EBFA;\n",
              "      --hover-fill-color: #174EA6;\n",
              "      --disabled-fill-color: #AAA;\n",
              "      --disabled-bg-color: #DDD;\n",
              "  }\n",
              "\n",
              "  [theme=dark] .colab-df-quickchart {\n",
              "      --bg-color: #3B4455;\n",
              "      --fill-color: #D2E3FC;\n",
              "      --hover-bg-color: #434B5C;\n",
              "      --hover-fill-color: #FFFFFF;\n",
              "      --disabled-bg-color: #3B4455;\n",
              "      --disabled-fill-color: #666;\n",
              "  }\n",
              "\n",
              "  .colab-df-quickchart {\n",
              "    background-color: var(--bg-color);\n",
              "    border: none;\n",
              "    border-radius: 50%;\n",
              "    cursor: pointer;\n",
              "    display: none;\n",
              "    fill: var(--fill-color);\n",
              "    height: 32px;\n",
              "    padding: 0;\n",
              "    width: 32px;\n",
              "  }\n",
              "\n",
              "  .colab-df-quickchart:hover {\n",
              "    background-color: var(--hover-bg-color);\n",
              "    box-shadow: 0 1px 2px rgba(60, 64, 67, 0.3), 0 1px 3px 1px rgba(60, 64, 67, 0.15);\n",
              "    fill: var(--button-hover-fill-color);\n",
              "  }\n",
              "\n",
              "  .colab-df-quickchart-complete:disabled,\n",
              "  .colab-df-quickchart-complete:disabled:hover {\n",
              "    background-color: var(--disabled-bg-color);\n",
              "    fill: var(--disabled-fill-color);\n",
              "    box-shadow: none;\n",
              "  }\n",
              "\n",
              "  .colab-df-spinner {\n",
              "    border: 2px solid var(--fill-color);\n",
              "    border-color: transparent;\n",
              "    border-bottom-color: var(--fill-color);\n",
              "    animation:\n",
              "      spin 1s steps(1) infinite;\n",
              "  }\n",
              "\n",
              "  @keyframes spin {\n",
              "    0% {\n",
              "      border-color: transparent;\n",
              "      border-bottom-color: var(--fill-color);\n",
              "      border-left-color: var(--fill-color);\n",
              "    }\n",
              "    20% {\n",
              "      border-color: transparent;\n",
              "      border-left-color: var(--fill-color);\n",
              "      border-top-color: var(--fill-color);\n",
              "    }\n",
              "    30% {\n",
              "      border-color: transparent;\n",
              "      border-left-color: var(--fill-color);\n",
              "      border-top-color: var(--fill-color);\n",
              "      border-right-color: var(--fill-color);\n",
              "    }\n",
              "    40% {\n",
              "      border-color: transparent;\n",
              "      border-right-color: var(--fill-color);\n",
              "      border-top-color: var(--fill-color);\n",
              "    }\n",
              "    60% {\n",
              "      border-color: transparent;\n",
              "      border-right-color: var(--fill-color);\n",
              "    }\n",
              "    80% {\n",
              "      border-color: transparent;\n",
              "      border-right-color: var(--fill-color);\n",
              "      border-bottom-color: var(--fill-color);\n",
              "    }\n",
              "    90% {\n",
              "      border-color: transparent;\n",
              "      border-bottom-color: var(--fill-color);\n",
              "    }\n",
              "  }\n",
              "</style>\n",
              "\n",
              "  <script>\n",
              "    async function quickchart(key) {\n",
              "      const quickchartButtonEl =\n",
              "        document.querySelector('#' + key + ' button');\n",
              "      quickchartButtonEl.disabled = true;  // To prevent multiple clicks.\n",
              "      quickchartButtonEl.classList.add('colab-df-spinner');\n",
              "      try {\n",
              "        const charts = await google.colab.kernel.invokeFunction(\n",
              "            'suggestCharts', [key], {});\n",
              "      } catch (error) {\n",
              "        console.error('Error during call to suggestCharts:', error);\n",
              "      }\n",
              "      quickchartButtonEl.classList.remove('colab-df-spinner');\n",
              "      quickchartButtonEl.classList.add('colab-df-quickchart-complete');\n",
              "    }\n",
              "    (() => {\n",
              "      let quickchartButtonEl =\n",
              "        document.querySelector('#df-c560db55-c85d-4109-8766-432401c48b98 button');\n",
              "      quickchartButtonEl.style.display =\n",
              "        google.colab.kernel.accessAllowed ? 'block' : 'none';\n",
              "    })();\n",
              "  </script>\n",
              "</div>\n",
              "\n",
              "    </div>\n",
              "  </div>\n"
            ],
            "application/vnd.google.colaboratory.intrinsic+json": {
              "type": "dataframe"
            }
          },
          "metadata": {},
          "execution_count": 12
        }
      ],
      "source": [
        "merged_df.tail()"
      ]
    },
    {
      "cell_type": "code",
      "execution_count": null,
      "metadata": {
        "colab": {
          "base_uri": "https://localhost:8080/"
        },
        "id": "3-kcTTg9Zxc3",
        "outputId": "f7d0576a-46ee-4939-a745-397b99dbd899"
      },
      "outputs": [
        {
          "output_type": "stream",
          "name": "stdout",
          "text": [
            "              id tradingsymbol  instrument_token           timestamps  \\\n",
            "2259775  3083580         SREEL           8150273  2024-03-28 00:00:00   \n",
            "2259776  3083584         SREEL           8150273  2024-04-01 00:00:00   \n",
            "2259777  3083588         SREEL           8150273  2024-04-02 00:00:00   \n",
            "2259778  3083592         SREEL           8150273  2024-04-03 00:00:00   \n",
            "2259779  3083598         SREEL           8150273  2024-04-04 00:00:00   \n",
            "\n",
            "         open_price  high_price  low_price  close_price  volume  INDIA VIX  \\\n",
            "2259775      283.00      288.15     270.55       276.40   17496   1.023622   \n",
            "2259776      276.50      306.00     276.50       292.05   20563  -5.845674   \n",
            "2259777      293.55      300.05     287.95       296.65   20317  -3.559603   \n",
            "2259778      296.65      310.20     295.45       307.80   20637  -2.403433   \n",
            "2259779      309.40      318.10     304.35       306.00   10655  -0.967458   \n",
            "\n",
            "         NIFTY 50  NIFTY 500  NIFTY AUTO  NIFTY BANK  NIFTY COMMODITIES  \\\n",
            "2259775  0.918700   0.833093    1.290539    0.723828           1.147241   \n",
            "2259776  0.605100   1.172048   -0.158037    0.962661           2.075819   \n",
            "2259777 -0.038732   0.376722    1.070832   -0.068939           1.120570   \n",
            "2259778 -0.083061   0.174771   -0.272505    0.165736           0.186630   \n",
            "2259779  0.474935   0.389941    0.490829    1.053980          -0.105618   \n",
            "\n",
            "         NIFTY CONSR DURBL  NIFTY CONSUMPTION  NIFTY CPSE  NIFTY ENERGY  \\\n",
            "2259775           0.829082           1.112109    1.541811      0.854093   \n",
            "2259776           0.557248           0.047391    1.870871      1.202186   \n",
            "2259777           1.860371           0.267931    1.343083      0.516717   \n",
            "2259778           0.067627          -0.280994    0.924166      0.027208   \n",
            "2259779           0.438225           0.490535   -0.218302     -0.287373   \n",
            "\n",
            "         NIFTY FMCG  NIFTY HEALTHCARE  NIFTY INDIA MFG  NIFTY IT  NIFTY MEDIA  \\\n",
            "2259775    0.757608          1.394039         1.062644  0.442662    -0.704965   \n",
            "2259776   -0.111308          1.065568         1.100082  0.414492     4.688588   \n",
            "2259777    0.385606         -0.183790         1.156800 -0.710132     1.853674   \n",
            "2259778   -0.425625         -0.236737        -0.043538  0.728431     0.571831   \n",
            "2259779   -0.282085          0.053969        -0.101500  1.146875    -0.119428   \n",
            "\n",
            "         NIFTY METAL  NIFTY MICROCAP250  NIFTY PHARMA  NIFTY PSE  \\\n",
            "2259775     1.253840           0.177805      1.213476   1.401726   \n",
            "2259776     3.699801           3.404479      1.114700   1.865788   \n",
            "2259777     1.496607           1.710084     -0.118441   1.668039   \n",
            "2259778     0.004027           1.566986     -0.167317   0.857383   \n",
            "2259779     0.090897           0.574264     -0.066308  -0.501661   \n",
            "\n",
            "         NIFTY PSU BANK  NIFTY PVT BANK  NIFTY REALTY  NIFTY SMLCAP 100  \n",
            "2259775        2.616954        0.350394      0.547028          0.042912  \n",
            "2259776        1.512719        1.027558      4.357964          3.260873  \n",
            "2259777        0.882859       -0.065762      1.005426          1.221113  \n",
            "2259778        1.780924       -0.148640     -2.580713          1.161898  \n",
            "2259779       -0.473038        1.249426      0.102719          0.530459  \n"
          ]
        }
      ],
      "source": [
        "# Set the maximum number of columns to display to None (unlimited)\n",
        "pd.options.display.max_columns = None\n",
        "\n",
        "print(merged_df.tail())"
      ]
    },
    {
      "cell_type": "code",
      "execution_count": null,
      "metadata": {
        "colab": {
          "base_uri": "https://localhost:8080/"
        },
        "id": "9Bny9NxmbUvz",
        "outputId": "1be1b542-969a-4f7c-9820-b3c9b031d55c"
      },
      "outputs": [
        {
          "output_type": "stream",
          "name": "stdout",
          "text": [
            "        id tradingsymbol  instrument_token timestamps  open_price  high_price  \\\n",
            "0  4374999   GOLDSTAR-SM               257 2019-02-21        1.30        1.30   \n",
            "1  4375001   GOLDSTAR-SM               257 2019-02-25        1.15        1.30   \n",
            "2  4375008   GOLDSTAR-SM               257 2019-03-07        1.20        1.20   \n",
            "3  4375010   GOLDSTAR-SM               257 2019-03-19        1.15        1.25   \n",
            "4  4375013   GOLDSTAR-SM               257 2019-04-22        1.15        1.15   \n",
            "\n",
            "   low_price  close_price  volume  INDIA VIX  NIFTY 50  NIFTY 500  NIFTY AUTO  \\\n",
            "0       1.15         1.25  405000  -5.920281  0.506732   0.634214    0.434033   \n",
            "1       1.15         1.30  270000  -0.582524  0.819615   0.718630    1.117291   \n",
            "2       1.20         1.20  135000  -2.049968  0.047046  -0.055252   -0.185512   \n",
            "3       1.15         1.25  540000  -2.426036  0.612448   0.561644   -0.695488   \n",
            "4       1.15         1.15  135000   5.760774 -1.347339  -1.426371   -1.769265   \n",
            "\n",
            "   NIFTY BANK  NIFTY COMMODITIES  NIFTY CONSR DURBL  NIFTY CONSUMPTION  \\\n",
            "0    0.359481           0.977393           0.990739           0.455278   \n",
            "1    1.085696           0.508292           0.274452           0.333450   \n",
            "2    0.502975          -0.880657          -0.287720           0.040749   \n",
            "3    0.580313           0.694717           0.769166           0.242669   \n",
            "4   -1.771641          -1.986201          -0.219961          -0.990139   \n",
            "\n",
            "   NIFTY CPSE  NIFTY ENERGY  NIFTY FMCG  NIFTY HEALTHCARE  NIFTY INDIA MFG  \\\n",
            "0    0.558099      0.801477    0.388767          0.928916         0.840425   \n",
            "1    0.130241     -0.095418    0.293593          0.577245         0.772334   \n",
            "2   -2.199272     -0.095684    0.652131         -1.143050        -0.423232   \n",
            "3    1.167489      1.596446    0.864535          0.584441         0.149636   \n",
            "4   -1.564184     -2.399265   -0.460912         -1.294602        -2.016088   \n",
            "\n",
            "   NIFTY IT  NIFTY MEDIA  NIFTY METAL  NIFTY MICROCAP250  NIFTY PHARMA  \\\n",
            "0 -0.131651     1.092665     1.126582           1.586086      1.161933   \n",
            "1  2.033829    -0.256801     0.348322           1.131224      0.497002   \n",
            "2 -0.972034    -1.845783    -0.941648           0.407480     -1.194429   \n",
            "3  0.886099     0.705915    -0.033021           0.166718      0.430747   \n",
            "4  0.443427    -0.903323    -1.792691          -1.235957     -1.322543   \n",
            "\n",
            "   NIFTY PSE  NIFTY PSU BANK  NIFTY PVT BANK  NIFTY REALTY  NIFTY SMLCAP 100  \\\n",
            "0   0.301902        0.495871        0.352496      0.393529          1.440182   \n",
            "1  -0.216763       -0.232232        1.117211     -0.729144          0.756081   \n",
            "2  -1.119174        1.408427        0.227117     -0.337767         -0.344787   \n",
            "3   1.040704        1.873056        0.510477      0.115964          1.000726   \n",
            "4  -1.997975       -2.451247       -2.053578     -2.477811         -1.764380   \n",
            "\n",
            "   %changedaily  \n",
            "0           NaN  \n",
            "1      4.000000  \n",
            "2     -7.692308  \n",
            "3      4.166667  \n",
            "4     -8.000000  \n"
          ]
        }
      ],
      "source": [
        "# Ensure 'timestamps' column is in datetime format\n",
        "merged_df['timestamps'] = pd.to_datetime(merged_df['timestamps'])\n",
        "\n",
        "# Sort the DataFrame by 'instrument_token' and 'timestamps' to ensure chronological order for each instrument\n",
        "merged_df = merged_df.sort_values(by=['instrument_token', 'timestamps'])\n",
        "\n",
        "# Calculate the percentage change in 'close_price' for each 'instrument_token'\n",
        "# This will compare each day's close price with the previous day's close price for the same instrument_token\n",
        "# Using transform to ensure alignment and adding a small number (epsilon) to avoid division by zero\n",
        "epsilon = 1e-8\n",
        "merged_df['%changedaily'] = merged_df.groupby('instrument_token')['close_price'].transform(lambda x: (x.diff() / (x.shift() + epsilon)) * 100)\n",
        "\n",
        "# Display the first few rows to confirm the new column has been added correctly\n",
        "print(merged_df.head())\n"
      ]
    },
    {
      "cell_type": "code",
      "execution_count": null,
      "metadata": {
        "colab": {
          "base_uri": "https://localhost:8080/"
        },
        "id": "HpxRjWFdPR-n",
        "outputId": "7d3cdc8f-a65a-4db6-b1a0-bc7c029c015b"
      },
      "outputs": [
        {
          "output_type": "stream",
          "name": "stdout",
          "text": [
            "INDIA VIX: 1323 (0.06%)\n",
            "NIFTY 50: 1323 (0.06%)\n",
            "NIFTY 500: 1323 (0.06%)\n",
            "NIFTY AUTO: 1323 (0.06%)\n",
            "NIFTY BANK: 1323 (0.06%)\n",
            "NIFTY COMMODITIES: 1323 (0.06%)\n",
            "NIFTY CONSR DURBL: 1323 (0.06%)\n",
            "NIFTY CONSUMPTION: 1323 (0.06%)\n",
            "NIFTY CPSE: 1323 (0.06%)\n",
            "NIFTY ENERGY: 1323 (0.06%)\n",
            "NIFTY FMCG: 1323 (0.06%)\n",
            "NIFTY HEALTHCARE: 1323 (0.06%)\n",
            "NIFTY INDIA MFG: 1323 (0.06%)\n",
            "NIFTY IT: 1323 (0.06%)\n",
            "NIFTY MEDIA: 1323 (0.06%)\n",
            "NIFTY METAL: 1323 (0.06%)\n",
            "NIFTY MICROCAP250: 1323 (0.06%)\n",
            "NIFTY PHARMA: 1323 (0.06%)\n",
            "NIFTY PSE: 1323 (0.06%)\n",
            "NIFTY PSU BANK: 1323 (0.06%)\n",
            "NIFTY PVT BANK: 1323 (0.06%)\n",
            "NIFTY REALTY: 1323 (0.06%)\n",
            "NIFTY SMLCAP 100: 1323 (0.06%)\n",
            "%changedaily: 2300 (0.10%)\n",
            "No NaN values found.\n"
          ]
        }
      ],
      "source": [
        "# check nan values in data frame\n",
        "print_nan_counts(merged_df)\n",
        "# Using the function to fill NaN values in merged_df\n",
        "merged_df_filled = fill_nan_values(merged_df)\n",
        "# check nan values in data frame\n",
        "print_nan_counts(merged_df)"
      ]
    },
    {
      "cell_type": "code",
      "execution_count": null,
      "metadata": {
        "colab": {
          "base_uri": "https://localhost:8080/"
        },
        "id": "EXUVt2Whchbr",
        "outputId": "a436b9d5-4259-4ead-91ae-f5dcdcfb7c8e"
      },
      "outputs": [
        {
          "output_type": "stream",
          "name": "stdout",
          "text": [
            "              id tradingsymbol  instrument_token timestamps  open_price  \\\n",
            "2259775  3083580         SREEL           8150273 2024-03-28      283.00   \n",
            "2259776  3083584         SREEL           8150273 2024-04-01      276.50   \n",
            "2259777  3083588         SREEL           8150273 2024-04-02      293.55   \n",
            "2259778  3083592         SREEL           8150273 2024-04-03      296.65   \n",
            "2259779  3083598         SREEL           8150273 2024-04-04      309.40   \n",
            "\n",
            "         high_price  low_price  close_price  volume  INDIA VIX  NIFTY 50  \\\n",
            "2259775      288.15     270.55       276.40   17496   1.023622  0.918700   \n",
            "2259776      306.00     276.50       292.05   20563  -5.845674  0.605100   \n",
            "2259777      300.05     287.95       296.65   20317  -3.559603 -0.038732   \n",
            "2259778      310.20     295.45       307.80   20637  -2.403433 -0.083061   \n",
            "2259779      318.10     304.35       306.00   10655  -0.967458  0.474935   \n",
            "\n",
            "         NIFTY 500  NIFTY AUTO  NIFTY BANK  NIFTY COMMODITIES  \\\n",
            "2259775   0.833093    1.290539    0.723828           1.147241   \n",
            "2259776   1.172048   -0.158037    0.962661           2.075819   \n",
            "2259777   0.376722    1.070832   -0.068939           1.120570   \n",
            "2259778   0.174771   -0.272505    0.165736           0.186630   \n",
            "2259779   0.389941    0.490829    1.053980          -0.105618   \n",
            "\n",
            "         NIFTY CONSR DURBL  NIFTY CONSUMPTION  NIFTY CPSE  NIFTY ENERGY  \\\n",
            "2259775           0.829082           1.112109    1.541811      0.854093   \n",
            "2259776           0.557248           0.047391    1.870871      1.202186   \n",
            "2259777           1.860371           0.267931    1.343083      0.516717   \n",
            "2259778           0.067627          -0.280994    0.924166      0.027208   \n",
            "2259779           0.438225           0.490535   -0.218302     -0.287373   \n",
            "\n",
            "         NIFTY FMCG  NIFTY HEALTHCARE  NIFTY INDIA MFG  NIFTY IT  NIFTY MEDIA  \\\n",
            "2259775    0.757608          1.394039         1.062644  0.442662    -0.704965   \n",
            "2259776   -0.111308          1.065568         1.100082  0.414492     4.688588   \n",
            "2259777    0.385606         -0.183790         1.156800 -0.710132     1.853674   \n",
            "2259778   -0.425625         -0.236737        -0.043538  0.728431     0.571831   \n",
            "2259779   -0.282085          0.053969        -0.101500  1.146875    -0.119428   \n",
            "\n",
            "         NIFTY METAL  NIFTY MICROCAP250  NIFTY PHARMA  NIFTY PSE  \\\n",
            "2259775     1.253840           0.177805      1.213476   1.401726   \n",
            "2259776     3.699801           3.404479      1.114700   1.865788   \n",
            "2259777     1.496607           1.710084     -0.118441   1.668039   \n",
            "2259778     0.004027           1.566986     -0.167317   0.857383   \n",
            "2259779     0.090897           0.574264     -0.066308  -0.501661   \n",
            "\n",
            "         NIFTY PSU BANK  NIFTY PVT BANK  NIFTY REALTY  NIFTY SMLCAP 100  \\\n",
            "2259775        2.616954        0.350394      0.547028          0.042912   \n",
            "2259776        1.512719        1.027558      4.357964          3.260873   \n",
            "2259777        0.882859       -0.065762      1.005426          1.221113   \n",
            "2259778        1.780924       -0.148640     -2.580713          1.161898   \n",
            "2259779       -0.473038        1.249426      0.102719          0.530459   \n",
            "\n",
            "         %changedaily  %change_weekly  %change_monthly  %change_quarterly  \\\n",
            "2259775     -1.444108       -4.127645       -12.780057         -31.702496   \n",
            "2259776      5.662084        0.585500        -6.017699         -26.463553   \n",
            "2259777      1.575073        2.629303        -3.008010         -26.996432   \n",
            "2259778      3.758638        9.478926        -0.789686         -19.592476   \n",
            "2259779     -0.584795        9.110358        -3.332807         -19.484278   \n",
            "\n",
            "         %change_yearly  \n",
            "2259775       64.377044  \n",
            "2259776       72.250074  \n",
            "2259777       76.105669  \n",
            "2259778       85.142857  \n",
            "2259779       86.018237  \n"
          ]
        }
      ],
      "source": [
        "# Define a small number to prevent division by zero\n",
        "epsilon = 1e-8\n",
        "\n",
        "# Function to calculate percentage change with epsilon to avoid division by zero\n",
        "def safe_pct_change(series, periods):\n",
        "    return (series.diff(periods) / (series.shift(periods) + epsilon)) * 100\n",
        "\n",
        "# Calculate weekly percentage change\n",
        "merged_df['%change_weekly'] = merged_df.groupby('instrument_token')['close_price'].transform(lambda x: safe_pct_change(x, periods=5))\n",
        "\n",
        "# Calculate monthly percentage change\n",
        "merged_df['%change_monthly'] = merged_df.groupby('instrument_token')['close_price'].transform(lambda x: safe_pct_change(x, periods=21))\n",
        "\n",
        "# Calculate quarterly percentage change\n",
        "merged_df['%change_quarterly'] = merged_df.groupby('instrument_token')['close_price'].transform(lambda x: safe_pct_change(x, periods=63))\n",
        "\n",
        "# Calculate yearly percentage change\n",
        "merged_df['%change_yearly'] = merged_df.groupby('instrument_token')['close_price'].transform(lambda x: safe_pct_change(x, periods=252))\n",
        "\n",
        "# Display the last few rows to confirm the new columns\n",
        "print(merged_df.tail())"
      ]
    },
    {
      "cell_type": "code",
      "execution_count": null,
      "metadata": {
        "colab": {
          "base_uri": "https://localhost:8080/"
        },
        "id": "rksPkANkQWR5",
        "outputId": "0e4bd703-ebc8-417a-9b22-f8c5857780ca"
      },
      "outputs": [
        {
          "output_type": "stream",
          "name": "stdout",
          "text": [
            "%change_weekly: 11474 (0.51%)\n",
            "%change_monthly: 47992 (2.12%)\n",
            "%change_quarterly: 142268 (6.30%)\n",
            "%change_yearly: 539039 (23.85%)\n",
            "No NaN values found.\n"
          ]
        }
      ],
      "source": [
        "# check nan values in data frame\n",
        "print_nan_counts(merged_df)\n",
        "# Using the function to fill NaN values in merged_df\n",
        "merged_df_filled = fill_nan_values(merged_df)\n",
        "# check nan values in data frame\n",
        "print_nan_counts(merged_df)"
      ]
    },
    {
      "cell_type": "code",
      "execution_count": null,
      "metadata": {
        "colab": {
          "base_uri": "https://localhost:8080/"
        },
        "id": "A3zsO_S-fguN",
        "outputId": "3aa27e33-b3d2-49ba-b75b-03a0b704d54f"
      },
      "outputs": [
        {
          "output_type": "stream",
          "name": "stdout",
          "text": [
            "        timestamps  instrument_token  close_price       EMA_5      EMA_75  \\\n",
            "2259775 2024-03-28           8150273       276.40  282.029543  316.391112   \n",
            "2259776 2024-04-01           8150273       292.05  285.369695  315.750557   \n",
            "2259777 2024-04-02           8150273       296.65  289.129797  315.247910   \n",
            "2259778 2024-04-03           8150273       307.80  295.353198  315.051913   \n",
            "2259779 2024-04-04           8150273       306.00  298.902132  314.813705   \n",
            "\n",
            "            EMA_200  \n",
            "2259775  286.787143  \n",
            "2259776  286.839510  \n",
            "2259777  286.937127  \n",
            "2259778  287.144718  \n",
            "2259779  287.332333  \n"
          ]
        }
      ],
      "source": [
        "# Ensure 'timestamps' column is in datetime format\n",
        "merged_df['timestamps'] = pd.to_datetime(merged_df['timestamps'])\n",
        "\n",
        "# Sort the DataFrame by 'instrument_token' and 'timestamps' to ensure chronological order for each instrument\n",
        "merged_df = merged_df.sort_values(by=['instrument_token', 'timestamps'])\n",
        "\n",
        "# Calculate EMA for the specified periods for each 'instrument_token'\n",
        "ema_periods = [5, 75, 200]\n",
        "for period in ema_periods:\n",
        "    column_name = f'EMA_{period}'\n",
        "    merged_df[column_name] = merged_df.groupby('instrument_token')['close_price'].transform(lambda x: x.ewm(span=period, adjust=True).mean())\n",
        "\n",
        "# Display the first few rows to confirm the new columns\n",
        "print(merged_df[['timestamps', 'instrument_token', 'close_price', 'EMA_5', 'EMA_75', 'EMA_200']].tail())"
      ]
    },
    {
      "cell_type": "code",
      "execution_count": null,
      "metadata": {
        "colab": {
          "base_uri": "https://localhost:8080/"
        },
        "id": "XE583cKDRB1m",
        "outputId": "f8ea8ca7-17dd-4af3-ec8f-558bac05e4ce"
      },
      "outputs": [
        {
          "output_type": "stream",
          "name": "stdout",
          "text": [
            "No NaN values found.\n",
            "No NaN values found.\n"
          ]
        }
      ],
      "source": [
        "# check nan values in data frame\n",
        "print_nan_counts(merged_df)\n",
        "# Using the function to fill NaN values in merged_df\n",
        "merged_df_filled = fill_nan_values(merged_df)\n",
        "# check nan values in data frame\n",
        "print_nan_counts(merged_df)"
      ]
    },
    {
      "cell_type": "code",
      "execution_count": null,
      "metadata": {
        "colab": {
          "base_uri": "https://localhost:8080/"
        },
        "id": "k9jh82qxfq3s",
        "outputId": "1837c0a0-522b-496c-eb0f-0a9912fbce47"
      },
      "outputs": [
        {
          "output_type": "stream",
          "name": "stdout",
          "text": [
            "        timestamps  instrument_token  close_price      RSI_9     RSI_14  \\\n",
            "2259775 2024-03-28           8150273       276.40  19.764012  33.971044   \n",
            "2259776 2024-04-01           8150273       292.05  54.645477  40.521658   \n",
            "2259777 2024-04-02           8150273       296.65  54.589963  46.835443   \n",
            "2259778 2024-04-03           8150273       307.80  68.898043  58.173785   \n",
            "2259779 2024-04-04           8150273       306.00  67.987805  67.138810   \n",
            "\n",
            "            RSI_21  \n",
            "2259775  35.121234  \n",
            "2259776  43.578297  \n",
            "2259777  46.834136  \n",
            "2259778  49.194344  \n",
            "2259779  46.424941  \n"
          ]
        }
      ],
      "source": [
        "def calculate_rsi(series, period=14):\n",
        "    # Calculate daily price changes\n",
        "    delta = series.diff(1)\n",
        "\n",
        "    # Separate gains and losses\n",
        "    gain = delta.clip(lower=0)\n",
        "    loss = -delta.clip(upper=0)\n",
        "\n",
        "    # Calculate the average of gains and losses\n",
        "    avg_gain = gain.rolling(window=period).mean()\n",
        "    avg_loss = loss.rolling(window=period).mean()\n",
        "\n",
        "    # Calculate the relative strength (RS)\n",
        "    RS = avg_gain / avg_loss\n",
        "\n",
        "    # Calculate the RSI\n",
        "    RSI = 100 - (100 / (1 + RS))\n",
        "    return RSI\n",
        "\n",
        "# Ensure the 'timestamps' column is in datetime format and sort the DataFrame\n",
        "merged_df['timestamps'] = pd.to_datetime(merged_df['timestamps'])\n",
        "merged_df = merged_df.sort_values(by=['instrument_token', 'timestamps'])\n",
        "\n",
        "# Calculate RSI for specified periods and add to the DataFrame\n",
        "merged_df['RSI_9'] = merged_df.groupby('instrument_token')['close_price'].transform(lambda x: calculate_rsi(x, 9))\n",
        "merged_df['RSI_14'] = merged_df.groupby('instrument_token')['close_price'].transform(lambda x: calculate_rsi(x, 14))\n",
        "merged_df['RSI_21'] = merged_df.groupby('instrument_token')['close_price'].transform(lambda x: calculate_rsi(x, 21))\n",
        "\n",
        "# Display the last few rows to confirm the new columns\n",
        "print(merged_df[['timestamps', 'instrument_token', 'close_price', 'RSI_9', 'RSI_14', 'RSI_21']].tail())"
      ]
    },
    {
      "cell_type": "code",
      "execution_count": null,
      "metadata": {
        "colab": {
          "base_uri": "https://localhost:8080/"
        },
        "id": "lSVPQxVaSjU8",
        "outputId": "4476d519-7f8d-4971-b950-6aefdcd5daad"
      },
      "outputs": [
        {
          "output_type": "stream",
          "name": "stdout",
          "text": [
            "RSI_9: 21809 (0.97%)\n",
            "RSI_14: 32680 (1.45%)\n",
            "RSI_21: 48303 (2.14%)\n",
            "No NaN values found.\n"
          ]
        }
      ],
      "source": [
        "\n",
        "# check nan values in data frame\n",
        "print_nan_counts(merged_df)\n",
        "# Using the function to fill NaN values in merged_df\n",
        "merged_df_filled = fill_nan_values(merged_df)\n",
        "# check nan values in data frame\n",
        "print_nan_counts(merged_df)"
      ]
    },
    {
      "cell_type": "code",
      "execution_count": null,
      "metadata": {
        "colab": {
          "base_uri": "https://localhost:8080/"
        },
        "id": "xxbXZVZbVsch",
        "outputId": "7430fc1d-204c-42b3-a896-74bd26c5b45c"
      },
      "outputs": [
        {
          "output_type": "stream",
          "name": "stdout",
          "text": [
            "2.0.3\n"
          ]
        }
      ],
      "source": [
        "print(pd.__version__)"
      ]
    },
    {
      "cell_type": "code",
      "execution_count": null,
      "metadata": {
        "id": "N8w3QQg2g2TK"
      },
      "outputs": [],
      "source": [
        "# # Function to calculate mean deviation and CCI\n",
        "# def calculate_indicators(df, periods):\n",
        "#     # Pre-calculate Typical Price and store it to avoid recalculating\n",
        "#     TP = (df['high_price'] + df['low_price'] + df['close_price']) / 3\n",
        "#     df['TP'] = TP\n",
        "\n",
        "#     for period in periods:\n",
        "#         # Mean deviation calculation\n",
        "#         SMA_TP = TP.rolling(window=period).mean()\n",
        "#         deviation = TP - SMA_TP\n",
        "#         mean_deviation = deviation.abs().rolling(window=period).mean()\n",
        "#         df[f'mean_deviation_{period}'] = mean_deviation\n",
        "\n",
        "#         # CCI calculation using the previously calculated mean_deviation\n",
        "#         CCI = (TP - SMA_TP) / (0.015 * mean_deviation)\n",
        "#         df[f'CCI_{period}'] = CCI\n",
        "\n",
        "#     # Drop the 'TP' column as it's no longer needed after calculations\n",
        "#     df.drop('TP', axis=1, inplace=True)\n",
        "\n",
        "#     return df\n",
        "\n",
        "# # Assuming 'merged_df' is a pre-existing pandas DataFrame with necessary columns\n",
        "# # Pre-process the DataFrame\n",
        "# merged_df = merged_df.reset_index(drop=True)\n",
        "# merged_df = merged_df.set_index('instrument_token')\n",
        "# merged_df = merged_df.sort_index(level=[0, 1])  # Sort by 'instrument_token' and then timestamps\n",
        "\n",
        "# # Define periods for calculation\n",
        "# periods = [9, 14, 21]\n",
        "\n",
        "# # Calculate mean deviation and CCI in one go to avoid extra memory usage\n",
        "# merged_df = merged_df.groupby('instrument_token', group_keys=False).apply(calculate_indicators, periods)\n",
        "\n",
        "# # Resetting the index after processing\n",
        "# merged_df = merged_df.reset_index(drop=False)\n",
        "\n",
        "# # Display the last few rows to verify the calculations\n",
        "# columns_to_display = ['timestamps', 'instrument_token', 'close_price',\n",
        "#                       'mean_deviation_9', 'mean_deviation_14', 'mean_deviation_21',\n",
        "#                       'CCI_9', 'CCI_14', 'CCI_21']\n",
        "# print(merged_df[columns_to_display].tail())\n"
      ]
    },
    {
      "cell_type": "code",
      "execution_count": null,
      "metadata": {
        "colab": {
          "base_uri": "https://localhost:8080/"
        },
        "id": "FyEislNaSz1O",
        "outputId": "3abf8ece-7a3a-4218-9ce5-94a4563afae2"
      },
      "outputs": [
        {
          "output_type": "stream",
          "name": "stdout",
          "text": [
            "No NaN values found.\n",
            "No NaN values found.\n"
          ]
        }
      ],
      "source": [
        "# check nan values in data frame\n",
        "print_nan_counts(merged_df)\n",
        "# Using the function to fill NaN values in merged_df\n",
        "merged_df_filled = fill_nan_values(merged_df)\n",
        "# check nan values in data frame\n",
        "print_nan_counts(merged_df)"
      ]
    },
    {
      "cell_type": "code",
      "execution_count": null,
      "metadata": {
        "colab": {
          "base_uri": "https://localhost:8080/"
        },
        "id": "5ZHqzimxhm1_",
        "outputId": "081a1ed1-1dea-47e9-c8c2-33e4afd971de"
      },
      "outputs": [
        {
          "output_type": "stream",
          "name": "stdout",
          "text": [
            "        timestamps  instrument_token  close_price       MACD  MACD_signal\n",
            "2259775 2024-03-28           8150273       276.40 -13.047098   -13.101949\n",
            "2259776 2024-04-01           8150273       292.05 -11.805117   -12.842583\n",
            "2259777 2024-04-02           8150273       296.65 -10.330573   -12.340181\n",
            "2259778 2024-04-03           8150273       307.80  -8.168117   -11.505768\n",
            "2259779 2024-04-04           8150273       306.00  -6.524391   -10.509493\n"
          ]
        }
      ],
      "source": [
        "# Ensure the 'timestamps' column is in datetime format and sort the DataFrame\n",
        "merged_df['timestamps'] = pd.to_datetime(merged_df['timestamps'])\n",
        "merged_df = merged_df.sort_values(by=['instrument_token', 'timestamps'])\n",
        "\n",
        "# Directly calculate the MACD for each 'instrument_token' by subtracting the 26-period EMA from the 12-period EMA\n",
        "merged_df['MACD'] = merged_df.groupby('instrument_token')['close_price'].transform(\n",
        "    lambda x: x.ewm(span=12, adjust=False).mean()) - merged_df.groupby('instrument_token')['close_price'].transform(\n",
        "    lambda x: x.ewm(span=26, adjust=False).mean())\n",
        "\n",
        "# Calculate the signal line for each 'instrument_token' as the 9-period EMA of the MACD\n",
        "merged_df['MACD_signal'] = merged_df.groupby('instrument_token')['MACD'].transform(\n",
        "    lambda x: x.ewm(span=9, adjust=False).mean())\n",
        "\n",
        "# Display the last few rows to confirm the new columns\n",
        "print(merged_df[['timestamps', 'instrument_token', 'close_price', 'MACD', 'MACD_signal']].tail())\n"
      ]
    },
    {
      "cell_type": "code",
      "execution_count": null,
      "metadata": {
        "colab": {
          "base_uri": "https://localhost:8080/"
        },
        "id": "tqTEN2b_S_U3",
        "outputId": "918a6a7d-a616-4153-ee55-1ae2065367ba"
      },
      "outputs": [
        {
          "output_type": "stream",
          "name": "stdout",
          "text": [
            "No NaN values found.\n",
            "No NaN values found.\n"
          ]
        }
      ],
      "source": [
        "# check nan values in data frame\n",
        "print_nan_counts(merged_df)\n",
        "# Using the function to fill NaN values in merged_df\n",
        "merged_df_filled = fill_nan_values(merged_df)\n",
        "# check nan values in data frame\n",
        "print_nan_counts(merged_df)"
      ]
    },
    {
      "cell_type": "code",
      "execution_count": null,
      "metadata": {
        "colab": {
          "base_uri": "https://localhost:8080/"
        },
        "id": "RtTjgvTiiFbS",
        "outputId": "017edd1e-e10b-4118-8ded-e4ba3ca45aa1"
      },
      "outputs": [
        {
          "output_type": "stream",
          "name": "stdout",
          "text": [
            "        timestamps  instrument_token  close_price  volume  %change_close_VWAP\n",
            "2259775 2024-03-28           8150273       276.40   17496           -2.462965\n",
            "2259776 2024-04-01           8150273       292.05   20563            2.818850\n",
            "2259777 2024-04-02           8150273       296.65   20317            3.861833\n",
            "2259778 2024-04-03           8150273       307.80   20637            5.788823\n",
            "2259779 2024-04-04           8150273       306.00   10655            3.616019\n"
          ]
        }
      ],
      "source": [
        "# Ensure the 'timestamps' column is in datetime format and sort the DataFrame\n",
        "merged_df['timestamps'] = pd.to_datetime(merged_df['timestamps'])\n",
        "merged_df = merged_df.sort_values(by=['instrument_token', 'timestamps'])\n",
        "\n",
        "# Directly calculate the percentage change of the current close_price with the VWAP on a rolling 5-day basis\n",
        "merged_df['%change_close_VWAP'] = merged_df.groupby('instrument_token').apply(\n",
        "    lambda x: ((x['close_price'] - (x['close_price'] * x['volume']).rolling(window=5).sum() / x['volume'].rolling(window=5).sum())\n",
        "               / ((x['close_price'] * x['volume']).rolling(window=5).sum() / x['volume'].rolling(window=5).sum())) * 100\n",
        ").reset_index(level=0, drop=True)\n",
        "\n",
        "# Display the last few rows to confirm the new column and the calculation\n",
        "print(merged_df[['timestamps', 'instrument_token', 'close_price', 'volume', '%change_close_VWAP']].tail())\n"
      ]
    },
    {
      "cell_type": "code",
      "execution_count": null,
      "metadata": {
        "colab": {
          "base_uri": "https://localhost:8080/"
        },
        "id": "T1MpBEe7HIoq",
        "outputId": "d9af8337-a40c-4c4b-94aa-afef2a3d9614"
      },
      "outputs": [
        {
          "output_type": "stream",
          "name": "stdout",
          "text": [
            "                         timestamps  instrument_token  close_price  volume  \\\n",
            "instrument_token                                                             \n",
            "8150273          2259775 2024-03-28           8150273       276.40   17496   \n",
            "                 2259776 2024-04-01           8150273       292.05   20563   \n",
            "                 2259777 2024-04-02           8150273       296.65   20317   \n",
            "                 2259778 2024-04-03           8150273       307.80   20637   \n",
            "                 2259779 2024-04-04           8150273       306.00   10655   \n",
            "\n",
            "                          %change_close_VWAP_monthly  \\\n",
            "instrument_token                                       \n",
            "8150273          2259775                   -5.973669   \n",
            "                 2259776                   -0.225720   \n",
            "                 2259777                    1.531357   \n",
            "                 2259778                    5.178941   \n",
            "                 2259779                    4.497830   \n",
            "\n",
            "                          %change_close_VWAP_yearly  \n",
            "instrument_token                                     \n",
            "8150273          2259775                  -8.632089  \n",
            "                 2259776                  -3.578867  \n",
            "                 2259777                  -2.067788  \n",
            "                 2259778                   1.564808  \n",
            "                 2259779                   0.850016  \n"
          ]
        }
      ],
      "source": [
        "\n",
        "\n",
        "# Assuming merged_df is already defined and includes 'timestamps', 'instrument_token', 'close_price', and 'volume'\n",
        "\n",
        "# Preprocessing to ensure the data is sorted properly\n",
        "merged_df = merged_df.sort_values(by=['instrument_token', 'timestamps'])\n",
        "\n",
        "# Define a function to calculate percentage changes from VWAP without storing VWAP values in the DataFrame\n",
        "def calculate_percentage_changes(group):\n",
        "    # Calculate VWAP within the group but don't store in the DataFrame\n",
        "    VWAP_weekly = (group['close_price'] * group['volume']).rolling(window=5).sum() / group['volume'].rolling(window=5).sum()\n",
        "    VWAP_monthly = (group['close_price'] * group['volume']).rolling(window=21).sum() / group['volume'].rolling(window=21).sum()\n",
        "    VWAP_yearly = (group['close_price'] * group['volume']).rolling(window=252).sum() / group['volume'].rolling(window=252).sum()\n",
        "\n",
        "    # Calculate and store percentage changes directly in the group DataFrame\n",
        "    group['%change_close_VWAP_monthly'] = ((group['close_price'] - VWAP_monthly) / VWAP_monthly) * 100\n",
        "    group['%change_close_VWAP_yearly'] = ((group['close_price'] - VWAP_yearly) / VWAP_yearly) * 100\n",
        "\n",
        "    # Replace potential infinite values with NaN in percentage changes\n",
        "    group['%change_close_VWAP_monthly'].replace([np.inf, -np.inf], np.nan, inplace=True)\n",
        "    group['%change_close_VWAP_yearly'].replace([np.inf, -np.inf], np.nan, inplace=True)\n",
        "\n",
        "    return group\n",
        "\n",
        "# Apply the function to each group to calculate and add percentage changes\n",
        "merged_df = merged_df.groupby('instrument_token').apply(calculate_percentage_changes)\n",
        "\n",
        "# Display the last few rows to confirm the new columns\n",
        "print(merged_df[['timestamps', 'instrument_token', 'close_price', 'volume', '%change_close_VWAP_monthly', '%change_close_VWAP_yearly']].tail())\n"
      ]
    },
    {
      "cell_type": "code",
      "execution_count": null,
      "metadata": {
        "colab": {
          "base_uri": "https://localhost:8080/"
        },
        "id": "1LMx6kHTcLlr",
        "outputId": "5bc83591-f6f0-4b25-e926-448ba9d633df"
      },
      "outputs": [
        {
          "output_type": "stream",
          "name": "stdout",
          "text": [
            "        timestamps  instrument_token  close_price       CCI_9      CCI_14  \\\n",
            "2259775 2020-09-28           8150273       136.50   56.557852   28.875693   \n",
            "2259776 2020-09-25           8150273       132.80  -98.256538  -37.794922   \n",
            "2259777 2020-09-24           8150273       131.30 -169.741282 -102.923418   \n",
            "2259778 2020-10-21           8150273       130.25  -96.154465  -90.061059   \n",
            "2259779 2024-04-04           8150273       306.00  559.778862  818.220452   \n",
            "\n",
            "             CCI_21  \n",
            "2259775  -12.908130  \n",
            "2259776  -43.815724  \n",
            "2259777  -62.798218  \n",
            "2259778  -46.407548  \n",
            "2259779  946.044784  \n"
          ]
        }
      ],
      "source": [
        "# Function to calculate CCI (without storing mean deviation separately)\n",
        "def calculate_indicators(df, periods):\n",
        "    # Pre-calculate Typical Price and store it to avoid recalculating\n",
        "    TP = (df['high_price'] + df['low_price'] + df['close_price']) / 3\n",
        "    df['TP'] = TP\n",
        "\n",
        "    for period in periods:\n",
        "        # Mean deviation calculation only for use in CCI formula\n",
        "        SMA_TP = TP.rolling(window=period).mean()\n",
        "        mean_deviation = (TP - SMA_TP).abs().rolling(window=period).mean()\n",
        "\n",
        "        # CCI calculation using the mean_deviation\n",
        "        CCI = (TP - SMA_TP) / (0.015 * mean_deviation)\n",
        "        df[f'CCI_{period}'] = CCI\n",
        "\n",
        "    # Drop the 'TP' column as it's no longer needed after calculations\n",
        "    df.drop('TP', axis=1, inplace=True)\n",
        "\n",
        "    return df\n",
        "\n",
        "# Assuming 'merged_df' is a pre-existing pandas DataFrame with necessary columns\n",
        "# Pre-process the DataFrame\n",
        "merged_df = merged_df.reset_index(drop=True)\n",
        "merged_df = merged_df.set_index('instrument_token')\n",
        "merged_df = merged_df.sort_index(level=[0, 1])  # Sort by 'instrument_token' and then timestamps\n",
        "\n",
        "# Define periods for calculation\n",
        "periods = [9, 14, 21]\n",
        "\n",
        "# Calculate CCI in one go to avoid extra memory usage\n",
        "merged_df = merged_df.groupby('instrument_token', group_keys=False).apply(calculate_indicators, periods)\n",
        "\n",
        "# Resetting the index after processing\n",
        "merged_df = merged_df.reset_index(drop=False)\n",
        "\n",
        "# Display the last few rows to verify the calculations\n",
        "columns_to_display = ['timestamps', 'instrument_token', 'close_price',\n",
        "                      'CCI_9', 'CCI_14', 'CCI_21']\n",
        "print(merged_df[columns_to_display].tail())\n"
      ]
    },
    {
      "cell_type": "code",
      "execution_count": null,
      "metadata": {
        "colab": {
          "base_uri": "https://localhost:8080/"
        },
        "id": "3cFr1JuMbOCn",
        "outputId": "0bac8664-c860-45cc-9f82-cee1282e9926"
      },
      "outputs": [
        {
          "output_type": "stream",
          "name": "stdout",
          "text": [
            "%change_close_VWAP: 83180 (3.68%)\n",
            "%change_close_VWAP_monthly: 118774 (5.26%)\n",
            "%change_close_VWAP_yearly: 596465 (26.39%)\n",
            "CCI_9: 36688 (1.62%)\n",
            "CCI_14: 59350 (2.63%)\n",
            "CCI_21: 90896 (4.02%)\n",
            "No NaN values found.\n"
          ]
        }
      ],
      "source": [
        "# check nan values in data frame\n",
        "print_nan_counts(merged_df)\n",
        "# Using the function to fill NaN values in merged_df\n",
        "merged_df_filled = fill_nan_values(merged_df)\n",
        "# check nan values in data frame\n",
        "print_nan_counts(merged_df)"
      ]
    },
    {
      "cell_type": "code",
      "execution_count": null,
      "metadata": {
        "id": "XB5WAwj5cERo"
      },
      "outputs": [],
      "source": [
        "# diff_52_week_high\n",
        "# diff_from_52_week_low in % terms"
      ]
    },
    {
      "cell_type": "code",
      "execution_count": null,
      "metadata": {
        "colab": {
          "base_uri": "https://localhost:8080/"
        },
        "id": "DoUOsdKQcQdt",
        "outputId": "cf8b23e6-7838-4d82-b10b-d2f0331c8ad3"
      },
      "outputs": [
        {
          "output_type": "stream",
          "name": "stdout",
          "text": [
            "        timestamps  instrument_token  close_price  %diff_52_week_high  \\\n",
            "2258905 2024-03-28           8150273       276.40          -31.979820   \n",
            "2258904 2024-04-01           8150273       292.05          -28.128461   \n",
            "2258903 2024-04-02           8150273       296.65          -26.996432   \n",
            "2259347 2024-04-03           8150273       307.80          -24.252492   \n",
            "2259779 2024-04-04           8150273       306.00          -24.695460   \n",
            "\n",
            "         %diff_from_52_week_low  \n",
            "2258905               68.024316  \n",
            "2258904               77.537994  \n",
            "2258903               80.334346  \n",
            "2259347               87.112462  \n",
            "2259779               84.281843  \n"
          ]
        }
      ],
      "source": [
        "# Ensure the 'timestamps' column is in datetime format\n",
        "merged_df['timestamps'] = pd.to_datetime(merged_df['timestamps'])\n",
        "\n",
        "# If the DataFrame has a multi-level index, handle it properly\n",
        "if 'instrument_token' in merged_df.index.names or 'level_1' in merged_df.index.names:\n",
        "    # Rename the index levels to avoid conflicts when they are reset to columns\n",
        "    merged_df = merged_df.rename_axis(index={name: f'index_{name}' for name in merged_df.index.names})\n",
        "\n",
        "# Now safely reset the index\n",
        "merged_df = merged_df.reset_index()\n",
        "\n",
        "# Ensure no duplicate columns after reset\n",
        "merged_df = merged_df.loc[:, ~merged_df.columns.duplicated()]\n",
        "\n",
        "# Sort the DataFrame by 'instrument_token' and 'timestamps'\n",
        "merged_df.sort_values(by=['instrument_token', 'timestamps'], inplace=True)\n",
        "\n",
        "# Define a small number to prevent division by zero\n",
        "epsilon = 1e-8\n",
        "\n",
        "# Calculate the percentage difference from the 52-week high and low for each 'instrument_token'\n",
        "merged_df['%diff_52_week_high'] = merged_df.groupby('instrument_token')['close_price'].transform(\n",
        "    lambda x: (x - x.rolling(window=252).max()) / (x.rolling(window=252).max() + epsilon) * 100\n",
        ")\n",
        "merged_df['%diff_from_52_week_low'] = merged_df.groupby('instrument_token')['close_price'].transform(\n",
        "    lambda x: (x - x.rolling(window=252).min()) / (x.rolling(window=252).min() + epsilon) * 100\n",
        ")\n",
        "\n",
        "# Display the last few rows to confirm the new columns\n",
        "print(merged_df[['timestamps', 'instrument_token', 'close_price', '%diff_52_week_high', '%diff_from_52_week_low']].tail())\n"
      ]
    },
    {
      "cell_type": "code",
      "execution_count": null,
      "metadata": {
        "colab": {
          "base_uri": "https://localhost:8080/"
        },
        "id": "B_4eRqiMcbCo",
        "outputId": "b0875122-8223-484a-fc87-5913738b9aaf"
      },
      "outputs": [
        {
          "output_type": "stream",
          "name": "stdout",
          "text": [
            "%diff_52_week_high: 537042 (23.77%)\n",
            "%diff_from_52_week_low: 537042 (23.77%)\n",
            "No NaN values found.\n"
          ]
        }
      ],
      "source": [
        "# check nan values in data frame\n",
        "print_nan_counts(merged_df)\n",
        "# Using the function to fill NaN values in merged_df\n",
        "merged_df_filled = fill_nan_values(merged_df)\n",
        "# # check nan values in data frame\n",
        "print_nan_counts(merged_df)"
      ]
    },
    {
      "cell_type": "code",
      "execution_count": null,
      "metadata": {
        "colab": {
          "base_uri": "https://localhost:8080/"
        },
        "id": "0n11PGeYcxtV",
        "outputId": "e2a29196-0cdd-4824-c1d7-55bf93e949e3"
      },
      "outputs": [
        {
          "output_type": "stream",
          "name": "stdout",
          "text": [
            "        timestamps  instrument_token  close_price  volume  Volume_ROC_7  \\\n",
            "2258905 2024-03-28           8150273       276.40   17496     63.958392   \n",
            "2258904 2024-04-01           8150273       292.05   20563     87.669983   \n",
            "2258903 2024-04-02           8150273       296.65   20317     25.405839   \n",
            "2259347 2024-04-03           8150273       307.80   20637     27.294597   \n",
            "2259779 2024-04-04           8150273       306.00   10655    -47.045375   \n",
            "\n",
            "            PVROC_7  Volume_ROC_14    PVROC_14  Volume_ROC_28    PVROC_28  \\\n",
            "2258905 -360.298213      -4.367313   44.042524     -50.686321  733.947972   \n",
            "2258904   78.750028      24.367969 -158.735010     -32.739108  359.276902   \n",
            "2258903   73.582642      18.425041  -39.506108     -13.947480  133.116670   \n",
            "2259347  164.040197     -21.574067 -123.375654     -32.362099  169.382907   \n",
            "2259779 -275.875840     -69.709461 -764.718475     -42.978701  219.258684   \n",
            "\n",
            "         Volume_ROC_56     PVROC_56  Volume_ROC_252     PVROC_252  \n",
            "2258905     -71.502565  1938.413428      127.250292   8191.997702  \n",
            "2258904     -56.881042  1313.042747      -47.911442  -3461.605224  \n",
            "2258903     -63.861615  1299.011102      517.725753  39401.864928  \n",
            "2259347     -46.633049   834.643259       54.295327   4622.859279  \n",
            "2259779     -81.512328  1361.312460      -69.369861  -5967.073188  \n"
          ]
        }
      ],
      "source": [
        "def calculate_pvroc_and_volume_roc(df, period=14):\n",
        "    # Define a small number to prevent division by zero\n",
        "    epsilon = 1e-8\n",
        "\n",
        "    # Calculate the Rate of Change for the price, adding epsilon to prevent division by zero\n",
        "    price_roc = df['close_price'].pct_change(periods=period).replace([np.inf, -np.inf], np.nan) * 100\n",
        "\n",
        "    # Calculate the Rate of Change for the volume, adding epsilon to prevent division by zero\n",
        "    volume_roc = df['volume'].pct_change(periods=period).replace([np.inf, -np.inf], np.nan) * 100\n",
        "\n",
        "    df[f'Volume_ROC_{period}'] = volume_roc  # Store the volume rate of change\n",
        "    df[f'PVROC_{period}'] = price_roc * volume_roc  # Combine the two to get a Price-Volume Rate of Change\n",
        "\n",
        "    return df\n",
        "\n",
        "\n",
        "# Apply the PVROC and Volume ROC function to the DataFrame\n",
        "periods = [7, 14, 28, 56, 252]  # You can choose periods that make sense for your analysis\n",
        "for period in periods:\n",
        "    merged_df = calculate_pvroc_and_volume_roc(merged_df, period)\n",
        "\n",
        "# Display the first few rows to confirm the new columns\n",
        "print(merged_df[['timestamps', 'instrument_token', 'close_price', 'volume', 'Volume_ROC_7', 'PVROC_7', 'Volume_ROC_14', 'PVROC_14', 'Volume_ROC_28', 'PVROC_28', 'Volume_ROC_56', 'PVROC_56', 'Volume_ROC_252', 'PVROC_252']].tail())\n"
      ]
    },
    {
      "cell_type": "code",
      "execution_count": null,
      "metadata": {
        "colab": {
          "base_uri": "https://localhost:8080/"
        },
        "id": "6Or5_ENgeysQ",
        "outputId": "df368f3d-28d1-49bf-ded6-d1732001d846"
      },
      "outputs": [
        {
          "output_type": "stream",
          "name": "stdout",
          "text": [
            "        timestamps  instrument_token  close_price  volume        OBV\n",
            "2258905 2024-03-28           8150273       276.40   17496  7130770.0\n",
            "2258904 2024-04-01           8150273       292.05   20563  7151333.0\n",
            "2258903 2024-04-02           8150273       296.65   20317  7171650.0\n",
            "2259347 2024-04-03           8150273       307.80   20637  7192287.0\n",
            "2259779 2024-04-04           8150273       306.00   10655  7181632.0\n"
          ]
        }
      ],
      "source": [
        "def calculate_obv(df):\n",
        "    # Calculate the daily price change\n",
        "    price_change = df['close_price'].diff()\n",
        "\n",
        "    # Determine the direction of trade for each day\n",
        "    direction = price_change.apply(np.sign)\n",
        "\n",
        "    # Calculate OBV by cumulatively summing the volume adjusted by its trading direction\n",
        "    obv = (direction * df['volume']).cumsum()\n",
        "\n",
        "    return obv\n",
        "\n",
        "# Apply the OBV function to the DataFrame, grouped by 'instrument_token'\n",
        "merged_df['OBV'] = merged_df.groupby('instrument_token').apply(calculate_obv).reset_index(level=0, drop=True)\n",
        "\n",
        "# Display the first few rows to confirm the new column\n",
        "print(merged_df[['timestamps', 'instrument_token', 'close_price', 'volume', 'OBV']].tail())\n"
      ]
    },
    {
      "cell_type": "code",
      "execution_count": null,
      "metadata": {
        "colab": {
          "base_uri": "https://localhost:8080/"
        },
        "id": "AddT5oOee-Z2",
        "outputId": "da2302b0-e370-4702-c4db-2c4c2d769d96"
      },
      "outputs": [
        {
          "output_type": "stream",
          "name": "stdout",
          "text": [
            "Volume_ROC_7: 74263 (3.29%)\n",
            "PVROC_7: 74263 (3.29%)\n",
            "Volume_ROC_14: 74270 (3.29%)\n",
            "PVROC_14: 74270 (3.29%)\n",
            "Volume_ROC_28: 74284 (3.29%)\n",
            "PVROC_28: 74284 (3.29%)\n",
            "Volume_ROC_56: 74312 (3.29%)\n",
            "PVROC_56: 74312 (3.29%)\n",
            "Volume_ROC_252: 74508 (3.30%)\n",
            "PVROC_252: 74508 (3.30%)\n",
            "OBV: 2300 (0.10%)\n",
            "No NaN values found.\n"
          ]
        }
      ],
      "source": [
        "# check nan values in data frame\n",
        "print_nan_counts(merged_df)\n",
        "# Using the function to fill NaN values in merged_df\n",
        "merged_df = fill_nan_values(merged_df)\n",
        "# # check nan values in data frame\n",
        "print_nan_counts(merged_df)"
      ]
    },
    {
      "cell_type": "code",
      "execution_count": null,
      "metadata": {
        "colab": {
          "base_uri": "https://localhost:8080/"
        },
        "id": "eEjplMssfG6v",
        "outputId": "a903bba4-89ae-47a3-a0f1-12f1add423cb"
      },
      "outputs": [
        {
          "output_type": "stream",
          "name": "stdout",
          "text": [
            "        timestamps  instrument_token  close_price  volume  Volume_RSI_14\n",
            "2258905 2024-03-28           8150273       276.40   17496      49.381589\n",
            "2258904 2024-04-01           8150273       292.05   20563      53.056580\n",
            "2258903 2024-04-02           8150273       296.65   20317      52.411836\n",
            "2259347 2024-04-03           8150273       307.80   20637      44.993209\n",
            "2259779 2024-04-04           8150273       306.00   10655      28.792832\n"
          ]
        }
      ],
      "source": [
        "def calculate_volume_rsi(df, period=14):\n",
        "    # Calculate daily volume change\n",
        "    delta_volume = df['volume'].diff()\n",
        "\n",
        "    # Separate the up-volume and down-volume\n",
        "    up_volume = delta_volume.clip(lower=0)\n",
        "    down_volume = -delta_volume.clip(upper=0)\n",
        "\n",
        "    # Calculate the exponential moving average of up-volume and down-volume\n",
        "    avg_up_volume = up_volume.rolling(window=period).mean()\n",
        "    avg_down_volume = down_volume.rolling(window=period).mean()\n",
        "\n",
        "    # Calculate the Volume RSI\n",
        "    RS = avg_up_volume / avg_down_volume\n",
        "    volume_rsi = 100 - (100 / (1 + RS))\n",
        "\n",
        "    return volume_rsi\n",
        "\n",
        "# Apply the Volume RSI function to each group in the DataFrame\n",
        "merged_df['Volume_RSI_14'] = merged_df.groupby('instrument_token').apply(lambda x: calculate_volume_rsi(x, 14)).reset_index(level=0, drop=True)\n",
        "\n",
        "# Display the first few rows to confirm the new column\n",
        "print(merged_df[['timestamps', 'instrument_token', 'close_price', 'volume', 'Volume_RSI_14']].tail())\n"
      ]
    },
    {
      "cell_type": "code",
      "execution_count": null,
      "metadata": {
        "colab": {
          "base_uri": "https://localhost:8080/"
        },
        "id": "aeIe_z9rgiNd",
        "outputId": "e273a7ca-46d3-4cca-c076-3941f220b945"
      },
      "outputs": [
        {
          "output_type": "stream",
          "name": "stdout",
          "text": [
            "Volume_RSI_14: 105601 (4.67%)\n",
            "No NaN values found.\n"
          ]
        }
      ],
      "source": [
        "# check nan values in data frame\n",
        "print_nan_counts(merged_df)\n",
        "# Using the function to fill NaN values in merged_df\n",
        "merged_df = fill_nan_values(merged_df)\n",
        "# # check nan values in data frame\n",
        "print_nan_counts(merged_df)"
      ]
    },
    {
      "cell_type": "code",
      "execution_count": null,
      "metadata": {
        "colab": {
          "base_uri": "https://localhost:8080/"
        },
        "id": "8EcCSFEQfOsr",
        "outputId": "190e47be-5eb6-4a9e-a87d-447f43196df1"
      },
      "outputs": [
        {
          "output_type": "stream",
          "name": "stdout",
          "text": [
            "        timestamps  instrument_token  close_price  volume            VPT\n",
            "2258905 2024-03-28           8150273       276.40   17496  933785.349818\n",
            "2258904 2024-04-01           8150273       292.05   20563  934949.644138\n",
            "2258903 2024-04-02           8150273       296.65   20317  935269.651671\n",
            "2259347 2024-04-03           8150273       307.80   20637  936045.321821\n",
            "2259779 2024-04-04           8150273       306.00   10655  935983.011880\n"
          ]
        }
      ],
      "source": [
        "def calculate_vpt(df):\n",
        "    # Calculate percentage change in price\n",
        "    price_change = df['close_price'].pct_change()\n",
        "\n",
        "    # Calculate the VPT\n",
        "    vpt = (df['volume'] * price_change).cumsum()\n",
        "\n",
        "    return vpt\n",
        "\n",
        "# Apply the VPT function to each group in the DataFrame\n",
        "merged_df['VPT'] = merged_df.groupby('instrument_token').apply(lambda x: calculate_vpt(x)).reset_index(level=0, drop=True)\n",
        "\n",
        "# Display the first few rows to confirm the new column\n",
        "print(merged_df[['timestamps', 'instrument_token', 'close_price', 'volume', 'VPT']].tail())\n"
      ]
    },
    {
      "cell_type": "code",
      "execution_count": null,
      "metadata": {
        "colab": {
          "base_uri": "https://localhost:8080/"
        },
        "id": "rlkaYwpNfp8Z",
        "outputId": "ce690566-d50d-4810-c7ed-9ea2c220f804"
      },
      "outputs": [
        {
          "output_type": "stream",
          "name": "stdout",
          "text": [
            "        timestamps  instrument_token  close_price  volume     MFI_14\n",
            "2258905 2024-03-28           8150273       276.40   17496  29.806247\n",
            "2258904 2024-04-01           8150273       292.05   20563  30.582263\n",
            "2258903 2024-04-02           8150273       296.65   20317  38.068185\n",
            "2259347 2024-04-03           8150273       307.80   20637  47.138594\n",
            "2259779 2024-04-04           8150273       306.00   10655  56.446131\n"
          ]
        }
      ],
      "source": [
        "def calculate_mfi(group, period=14):\n",
        "    # Calculate Typical Price\n",
        "    typical_price = (group['high_price'] + group['low_price'] + group['close_price']) / 3\n",
        "\n",
        "    # Calculate Raw Money Flow\n",
        "    raw_money_flow = typical_price * group['volume']\n",
        "\n",
        "    # Shift the typical price to compare with the previous day\n",
        "    shifted_typical_price = typical_price.shift(1)\n",
        "\n",
        "    # Calculate Positive and Negative Money Flow\n",
        "    positive_flow = pd.Series(np.where(typical_price > shifted_typical_price, raw_money_flow, 0), index=group.index)\n",
        "    negative_flow = pd.Series(np.where(typical_price < shifted_typical_price, raw_money_flow, 0), index=group.index)\n",
        "\n",
        "    # Calculate the 14-period sum of Positive and Negative Money Flow\n",
        "    positive_flow_sum = positive_flow.rolling(window=period).sum()\n",
        "    negative_flow_sum = negative_flow.rolling(window=period).sum()\n",
        "\n",
        "    # Calculate Money Flow Ratio\n",
        "    money_flow_ratio = positive_flow_sum / negative_flow_sum\n",
        "\n",
        "    # Calculate Money Flow Index\n",
        "    mfi = 100 - (100 / (1 + money_flow_ratio))\n",
        "\n",
        "    return mfi\n",
        "\n",
        "# Apply the MFI function to each group in the DataFrame and compute MFI\n",
        "merged_df['MFI_14'] = merged_df.groupby('instrument_token', group_keys=False).apply(calculate_mfi)\n",
        "\n",
        "# Display the first few rows to confirm the new column\n",
        "print(merged_df[['timestamps', 'instrument_token', 'close_price', 'volume', 'MFI_14']].tail())\n"
      ]
    },
    {
      "cell_type": "code",
      "execution_count": null,
      "metadata": {
        "colab": {
          "base_uri": "https://localhost:8080/"
        },
        "id": "qAhpotX3f9UP",
        "outputId": "e44c926a-5f0a-4678-a3bf-ccb01f0b0c66"
      },
      "outputs": [
        {
          "output_type": "stream",
          "name": "stdout",
          "text": [
            "        timestamps  instrument_token  close_price     CMO_10\n",
            "2258905 2024-03-28           8150273       276.40   1.180745\n",
            "2258904 2024-04-01           8150273       292.05  -9.788093\n",
            "2258903 2024-04-02           8150273       296.65  18.461538\n",
            "2259347 2024-04-03           8150273       307.80  28.653846\n",
            "2259779 2024-04-04           8150273       306.00  32.869911\n"
          ]
        }
      ],
      "source": [
        "def calculate_cmo(df, period=10):\n",
        "    # Calculate price change from previous day\n",
        "    delta = df['close_price'].diff()\n",
        "\n",
        "    # Sum of gains and losses\n",
        "    gain = delta.where(delta > 0, 0).rolling(window=period).sum()\n",
        "    loss = -delta.where(delta < 0, 0).rolling(window=period).sum()\n",
        "\n",
        "    # Calculate the Chande Momentum Oscillator\n",
        "    cmo = ((gain - loss) / (gain + loss)) * 100\n",
        "\n",
        "    return cmo\n",
        "\n",
        "# Apply the CMO function to each group in the DataFrame\n",
        "merged_df['CMO_10'] = merged_df.groupby('instrument_token').apply(lambda x: calculate_cmo(x)).reset_index(level=0, drop=True)\n",
        "\n",
        "# Display the first few rows to confirm the new column\n",
        "print(merged_df[['timestamps', 'instrument_token', 'close_price', 'CMO_10']].tail())\n"
      ]
    },
    {
      "cell_type": "code",
      "execution_count": null,
      "metadata": {
        "colab": {
          "base_uri": "https://localhost:8080/"
        },
        "id": "rydl3vcSh7gn",
        "outputId": "8e7b7d44-c77b-472e-8b3a-5064cfe9bccc"
      },
      "outputs": [
        {
          "output_type": "stream",
          "name": "stdout",
          "text": [
            "VPT: 2357 (0.10%)\n",
            "MFI_14: 103437 (4.58%)\n",
            "CMO_10: 21644 (0.96%)\n",
            "No NaN values found.\n"
          ]
        }
      ],
      "source": [
        "# check nan values in data frame\n",
        "print_nan_counts(merged_df)\n",
        "# Using the function to fill NaN values in merged_df\n",
        "merged_df = fill_nan_values(merged_df)\n",
        "# # check nan values in data frame\n",
        "print_nan_counts(merged_df)"
      ]
    },
    {
      "cell_type": "code",
      "execution_count": null,
      "metadata": {
        "colab": {
          "base_uri": "https://localhost:8080/"
        },
        "id": "itDSSwDQhayS",
        "outputId": "6ab09eda-29c5-47f2-8c4b-b0ab49bb8cb5"
      },
      "outputs": [
        {
          "output_type": "stream",
          "name": "stdout",
          "text": [
            "Index(['index', 'instrument_token', 'id', 'tradingsymbol', 'timestamps',\n",
            "       'open_price', 'high_price', 'low_price', 'close_price', 'volume',\n",
            "       'INDIA VIX', 'NIFTY 50', 'NIFTY 500', 'NIFTY AUTO', 'NIFTY BANK',\n",
            "       'NIFTY COMMODITIES', 'NIFTY CONSR DURBL', 'NIFTY CONSUMPTION',\n",
            "       'NIFTY CPSE', 'NIFTY ENERGY', 'NIFTY FMCG', 'NIFTY HEALTHCARE',\n",
            "       'NIFTY INDIA MFG', 'NIFTY IT', 'NIFTY MEDIA', 'NIFTY METAL',\n",
            "       'NIFTY MICROCAP250', 'NIFTY PHARMA', 'NIFTY PSE', 'NIFTY PSU BANK',\n",
            "       'NIFTY PVT BANK', 'NIFTY REALTY', 'NIFTY SMLCAP 100', '%changedaily',\n",
            "       '%change_weekly', '%change_monthly', '%change_quarterly',\n",
            "       '%change_yearly', 'EMA_5', 'EMA_75', 'EMA_200', 'RSI_9', 'RSI_14',\n",
            "       'RSI_21', 'MACD', 'MACD_signal', '%change_close_VWAP',\n",
            "       '%change_close_VWAP_monthly', '%change_close_VWAP_yearly', 'CCI_9',\n",
            "       'CCI_14', 'CCI_21', '%diff_52_week_high', '%diff_from_52_week_low',\n",
            "       'Volume_ROC_7', 'PVROC_7', 'Volume_ROC_14', 'PVROC_14', 'Volume_ROC_28',\n",
            "       'PVROC_28', 'Volume_ROC_56', 'PVROC_56', 'Volume_ROC_252', 'PVROC_252',\n",
            "       'OBV', 'Volume_RSI_14', 'VPT', 'MFI_14', 'CMO_10'],\n",
            "      dtype='object')\n"
          ]
        }
      ],
      "source": [
        "print(merged_df.columns)"
      ]
    },
    {
      "cell_type": "code",
      "execution_count": null,
      "metadata": {
        "colab": {
          "base_uri": "https://localhost:8080/"
        },
        "id": "ISTPp2vd9VgL",
        "outputId": "4404d1c7-fe5a-401a-bb5f-375fb8485a10"
      },
      "outputs": [
        {
          "output_type": "stream",
          "name": "stdout",
          "text": [
            "2259780\n"
          ]
        }
      ],
      "source": [
        "print(len(merged_df))"
      ]
    },
    {
      "cell_type": "code",
      "execution_count": null,
      "metadata": {
        "colab": {
          "base_uri": "https://localhost:8080/"
        },
        "id": "KHuoqdr89pJN",
        "outputId": "58f71e77-5094-4d1d-ef83-28888e1932f4"
      },
      "outputs": [
        {
          "output_type": "stream",
          "name": "stdout",
          "text": [
            "Total memory usage: 1329.8126726150513 MB\n"
          ]
        }
      ],
      "source": [
        "total_memory_usage = merged_df.memory_usage(deep=True).sum()\n",
        "print(f\"Total memory usage: {total_memory_usage / (1024**2)} MB\")\n"
      ]
    },
    {
      "cell_type": "code",
      "execution_count": null,
      "metadata": {
        "colab": {
          "base_uri": "https://localhost:8080/"
        },
        "id": "qmg0KYWv91J7",
        "outputId": "5d5bcd9f-cfcc-43d1-9db4-dcc0f745942c"
      },
      "outputs": [
        {
          "output_type": "stream",
          "name": "stdout",
          "text": [
            "Chunk size: 849661 rows\n"
          ]
        }
      ],
      "source": [
        "desired_chunk_size_mb = 500  # Desired chunk size in MB\n",
        "row_memory = total_memory_usage / len(merged_df)  # Average memory usage per row\n",
        "chunk_size = int((desired_chunk_size_mb * (1024**2)) / row_memory)  # Number of rows per chunk\n",
        "print(f\"Chunk size: {chunk_size} rows\")"
      ]
    },
    {
      "cell_type": "code",
      "execution_count": null,
      "metadata": {
        "id": "q9M1GFHAh7kx"
      },
      "outputs": [],
      "source": [
        "# # saving merged_df in drive\n",
        "# merged_df.to_csv('/content/drive/My Drive/merged_data.csv', index=True)  # Save to Drive\n",
        "\n",
        "# chunk_size = 100000  # Adjust based on your needs\n",
        "# for i in range(0, len(merged_df), chunk_size):\n",
        "#     chunk = merged_df.iloc[i:i+chunk_size]\n",
        "#     chunk.to_csv(f'/content/drive/My Drive/stocks_data/merged_data_part_{i//chunk_size}.csv', index=True)"
      ]
    },
    {
      "cell_type": "code",
      "execution_count": null,
      "metadata": {
        "colab": {
          "base_uri": "https://localhost:8080/"
        },
        "id": "vmkfRd8FEnEH",
        "outputId": "34c79fef-cc80-4d6c-ddad-0d383b499e8b"
      },
      "outputs": [
        {
          "output_type": "stream",
          "name": "stdout",
          "text": [
            "        timestamps  instrument_token  close_price  momentum_score\n",
            "2258905 2024-03-28           8150273       276.40        0.420426\n",
            "2258904 2024-04-01           8150273       292.05        0.451593\n",
            "2258903 2024-04-02           8150273       296.65        0.446457\n",
            "2259347 2024-04-03           8150273       307.80        0.463065\n",
            "2259779 2024-04-04           8150273       306.00        0.475756\n"
          ]
        }
      ],
      "source": [
        "# Define the list of indicators to be used for momentum score calculation\n",
        "# List of all columns for which you want to calculate the correlation\n",
        "indicators = [\n",
        "    'EMA_5', 'EMA_75', 'EMA_200',\n",
        "              'RSI_9', 'RSI_14', 'RSI_21',\n",
        "    'CCI_9', 'CCI_14', 'CCI_21', 'MACD', 'MACD_signal',\n",
        "           '%change_close_VWAP_monthly', '%change_close_VWAP_yearly', '%change_close_VWAP',\n",
        "              '%diff_52_week_high', '%diff_from_52_week_low',\n",
        "    'Volume_ROC_7', 'PVROC_7', 'Volume_ROC_14', 'PVROC_14', 'Volume_ROC_28', 'PVROC_28',\n",
        "    'Volume_ROC_56', 'PVROC_56', 'Volume_ROC_252', 'PVROC_252', 'OBV', 'Volume_RSI_14',\n",
        "    'CMO_10', 'volume',\n",
        "    'INDIA VIX', 'NIFTY 50', 'NIFTY 500',\n",
        "       'NIFTY AUTO', 'NIFTY BANK',\n",
        "       'NIFTY COMMODITIES', 'NIFTY CONSR DURBL', 'NIFTY CONSUMPTION',\n",
        "       'NIFTY CPSE', 'NIFTY ENERGY',\n",
        "       'NIFTY FMCG',\n",
        "       'NIFTY HEALTHCARE', 'NIFTY INDIA MFG',\n",
        "        'NIFTY IT',\n",
        "       'NIFTY MEDIA', 'NIFTY METAL', 'NIFTY MICROCAP250',\n",
        "       'NIFTY PHARMA', 'NIFTY PSE', 'NIFTY PSU BANK', 'NIFTY PVT BANK',\n",
        "       'NIFTY REALTY',  'NIFTY SMLCAP 100']\n",
        "\n",
        "# Convert indicator columns to numeric, handling errors and ensuring no data loss\n",
        "for column in indicators:\n",
        "    merged_df[column] = pd.to_numeric(merged_df[column], errors='coerce')\n",
        "\n",
        "# Function to normalize indicators and calculate momentum score\n",
        "def normalize_and_calculate_momentum(group):\n",
        "    normalized = (group[indicators] - group[indicators].min()) / (group[indicators].max() - group[indicators].min())\n",
        "    return normalized.mean(axis=1)\n",
        "\n",
        "# Apply the function and calculate the momentum score for each instrument_token\n",
        "momentum_scores = merged_df.groupby('instrument_token').apply(normalize_and_calculate_momentum)\n",
        "\n",
        "# Ensure that the resulting series aligns with the DataFrame's index\n",
        "merged_df['momentum_score'] = momentum_scores.values  # Assign the values directly to match the DataFrame's structure\n",
        "\n",
        "# Display the last few rows to confirm the new column\n",
        "print(merged_df[['timestamps', 'instrument_token', 'close_price', 'momentum_score']].tail())\n"
      ]
    },
    {
      "cell_type": "code",
      "execution_count": null,
      "metadata": {
        "colab": {
          "base_uri": "https://localhost:8080/"
        },
        "id": "Lai8DQVdmF9v",
        "outputId": "d983e1fd-88c3-4a36-b6e0-9925c3ca53f3"
      },
      "outputs": [
        {
          "output_type": "execute_result",
          "data": {
            "text/plain": [
              "0"
            ]
          },
          "metadata": {},
          "execution_count": 50
        }
      ],
      "source": [
        "# prompt: free unused system RAM to optimise the performance\n",
        "\n",
        "import gc\n",
        "gc.collect()\n"
      ]
    },
    {
      "cell_type": "code",
      "source": [
        "# Assuming merged_df is already defined and contains the columns 'instrument_token', 'timestamps', and 'close_price'\n",
        "\n",
        "# Sort the DataFrame\n",
        "merged_df.sort_values(by=['instrument_token', 'timestamps'], inplace=True)\n",
        "\n",
        "# Define a small number to prevent division by zero\n",
        "epsilon = 1e-8\n",
        "\n",
        "# Calculate the return over the next 22 days and 10 days\n",
        "# Shift the close price 22 days back and 10 days back and then calculate the return\n",
        "merged_df['future_return_10'] = (merged_df.groupby('instrument_token')['close_price'].shift(-10) / (merged_df['close_price'] + epsilon)) - 1\n",
        "merged_df['future_return_22'] = (merged_df.groupby('instrument_token')['close_price'].shift(-22) / (merged_df['close_price'] + epsilon)) - 1\n",
        "\n",
        "# Create a column where 1 indicates a return greater than 10% in the next 22 days, and 0 otherwise\n",
        "merged_df['above_10_percent_return_next_10_days'] = (merged_df['future_return_10'] > 0.10).astype(int)\n",
        "merged_df['above_10_percent_return_next_22_days'] = (merged_df['future_return_22'] > 0.10).astype(int)\n",
        "\n",
        "# Showing the modified DataFrame\n",
        "print(merged_df[['instrument_token', 'timestamps', 'close_price', 'above_10_percent_return_next_10_days', 'above_10_percent_return_next_22_days']].tail())\n"
      ],
      "metadata": {
        "colab": {
          "base_uri": "https://localhost:8080/"
        },
        "id": "s-lOFT0314b5",
        "outputId": "7483e39f-17b2-4fb9-b5d9-6d3718907897"
      },
      "execution_count": null,
      "outputs": [
        {
          "output_type": "stream",
          "name": "stdout",
          "text": [
            "         instrument_token timestamps  close_price  \\\n",
            "2258905           8150273 2024-03-28       276.40   \n",
            "2258904           8150273 2024-04-01       292.05   \n",
            "2258903           8150273 2024-04-02       296.65   \n",
            "2259347           8150273 2024-04-03       307.80   \n",
            "2259779           8150273 2024-04-04       306.00   \n",
            "\n",
            "         above_10_percent_return_next_10_days  \\\n",
            "2258905                                     0   \n",
            "2258904                                     0   \n",
            "2258903                                     0   \n",
            "2259347                                     0   \n",
            "2259779                                     0   \n",
            "\n",
            "         above_10_percent_return_next_22_days  \n",
            "2258905                                     0  \n",
            "2258904                                     0  \n",
            "2258903                                     0  \n",
            "2259347                                     0  \n",
            "2259779                                     0  \n"
          ]
        }
      ]
    },
    {
      "cell_type": "markdown",
      "metadata": {
        "id": "1qaIT9YxnUa9"
      },
      "source": [
        "Data Analysis"
      ]
    },
    {
      "cell_type": "code",
      "execution_count": null,
      "metadata": {
        "colab": {
          "base_uri": "https://localhost:8080/",
          "height": 575
        },
        "id": "V8sdEMMLkZzD",
        "outputId": "089a0e33-f10c-493f-bcd3-720528e5bd45"
      },
      "outputs": [
        {
          "output_type": "display_data",
          "data": {
            "text/plain": [
              "<Figure size 2400x2200 with 2 Axes>"
            ],
            "image/png": "[encoded data removed]"
          },
          "metadata": {}
        }
      ],
      "source": [
        "# prompt: Perform statistical analysis on the various technical indicators to understand their relationships and identify potential trading opportunities.\n",
        "\n",
        "# Perform statistical analysis on the technical indicators\n",
        "\n",
        "import seaborn as sns\n",
        "import matplotlib.pyplot as plt\n",
        "\n",
        "# List of all columns for which you want to calculate the correlation\n",
        "columns = ['open_price', 'high_price', 'low_price', 'close_price',\n",
        "    'EMA_5', 'EMA_75', 'EMA_200',\n",
        "              'RSI_9', 'RSI_14', 'RSI_21',\n",
        "    'CCI_9', 'CCI_14', 'CCI_21', 'MACD', 'MACD_signal',\n",
        "\n",
        "           '%change_close_VWAP_monthly', '%change_close_VWAP_yearly', '%change_close_VWAP',\n",
        "              '%diff_52_week_high', '%diff_from_52_week_low',\n",
        "    'Volume_ROC_7', 'PVROC_7', 'Volume_ROC_14', 'PVROC_14', 'Volume_ROC_28', 'PVROC_28',\n",
        "    'Volume_ROC_56', 'PVROC_56', 'Volume_ROC_252', 'PVROC_252', 'OBV', 'Volume_RSI_14',\n",
        "    'CMO_10', 'volume',\n",
        "    'INDIA VIX', 'NIFTY 50', 'NIFTY 500',\n",
        "       'NIFTY AUTO', 'NIFTY BANK',\n",
        "       'NIFTY COMMODITIES', 'NIFTY CONSR DURBL', 'NIFTY CONSUMPTION',\n",
        "       'NIFTY CPSE', 'NIFTY ENERGY',\n",
        "       'NIFTY FMCG',\n",
        "       'NIFTY HEALTHCARE', 'NIFTY INDIA MFG',\n",
        "        'NIFTY IT',\n",
        "       'NIFTY MEDIA', 'NIFTY METAL', 'NIFTY MICROCAP250',\n",
        "       'NIFTY PHARMA', 'NIFTY PSE', 'NIFTY PSU BANK', 'NIFTY PVT BANK',\n",
        "       'NIFTY REALTY',  'NIFTY SMLCAP 100', 'future_return_10', 'future_return_22',\n",
        "           'above_10_percent_return_next_10_days', 'above_10_percent_return_next_22_days']\n",
        "\n",
        "# Calculate correlations among the selected columns\n",
        "correlations = merged_df[columns].corr()\n",
        "\n",
        "# Plotting the correlation matrix\n",
        "plt.figure(figsize=(24, 22))  # Adjust size to better fit the increased number of variables\n",
        "mask = np.triu(np.ones_like(correlations, dtype=bool))\n",
        "sns.heatmap(correlations, mask=mask, cmap='coolwarm', square=True, linewidths=.5, cbar_kws={\"shrink\": .5})\n",
        "plt.xticks(rotation=45, fontsize=8)  # Adjust font size as needed\n",
        "plt.yticks(fontsize=8)\n",
        "plt.title(\"Correlation Matrix of Stock Data\")\n",
        "plt.show()\n",
        "\n",
        "\n",
        "\n",
        "# Analyze the correlations to identify potential trading opportunities\n",
        "# For example, if two indicators are highly correlated, you might consider using one as a confirmation for the other when making trading decisions.\n",
        "\n",
        "# Perform other statistical analysis as needed, such as calculating standard deviations, skewness, and kurtosis.\n"
      ]
    },
    {
      "cell_type": "code",
      "source": [
        "merged_df.to_csv('merged_df.csv', index=False)"
      ],
      "metadata": {
        "id": "cIseWlYd3L1s"
      },
      "execution_count": null,
      "outputs": []
    },
    {
      "cell_type": "code",
      "source": [
        "file_path = '/content/drive/My Drive/stocks_data/merged_df.csv'\n",
        "merged_df.to_csv(file_path, index=False)"
      ],
      "metadata": {
        "id": "6v9oZJf37YyS"
      },
      "execution_count": null,
      "outputs": []
    },
    {
      "cell_type": "code",
      "execution_count": null,
      "metadata": {
        "colab": {
          "base_uri": "https://localhost:8080/"
        },
        "id": "pVOVPOuyFTZr",
        "outputId": "9fcb4454-d9e6-4226-a1e5-323dce3ca33c"
      },
      "outputs": [
        {
          "output_type": "stream",
          "name": "stdout",
          "text": [
            "73\n"
          ]
        }
      ],
      "source": [
        "# prompt: count number of columns in merged_df\n",
        "\n",
        "print(len(merged_df.columns))\n"
      ]
    },
    {
      "cell_type": "code",
      "execution_count": null,
      "metadata": {
        "colab": {
          "base_uri": "https://localhost:8080/"
        },
        "id": "IATPzAWzufAx",
        "outputId": "9d59ee01-9ffb-44a8-d410-d0c7f5be7f42"
      },
      "outputs": [
        {
          "output_type": "stream",
          "name": "stdout",
          "text": [
            "{'min_momentum': 0.045363323013096764, 'max_momentum': 0.8320994767375001}\n"
          ]
        }
      ],
      "source": [
        "# Find the range of momentum_score across the entire DataFrame\n",
        "momentum_range = {\n",
        "    'min_momentum': merged_df['momentum_score'].min(),\n",
        "    'max_momentum': merged_df['momentum_score'].max()\n",
        "}\n",
        "\n",
        "print(momentum_range)\n"
      ]
    },
    {
      "cell_type": "code",
      "execution_count": null,
      "metadata": {
        "colab": {
          "base_uri": "https://localhost:8080/"
        },
        "id": "uryoZzBfkgsN",
        "outputId": "5e0b7644-85ca-4a62-9fa3-e97a2cff2240"
      },
      "outputs": [
        {
          "output_type": "stream",
          "name": "stdout",
          "text": [
            "momentum_score: 1\n",
            "future_return_10: 22919\n",
            "future_return_22: 50262\n"
          ]
        }
      ],
      "source": [
        "# Check for NaN values in each column and get their count\n",
        "nan_counts = merged_df.isna().sum()\n",
        "\n",
        "# Filter columns that have NaN values and their counts\n",
        "nan_columns = nan_counts[nan_counts > 0]\n",
        "\n",
        "# Print each column name and its NaN count explicitly\n",
        "for column, count in nan_columns.items():\n",
        "    print(f'{column}: {count}')\n"
      ]
    },
    {
      "cell_type": "code",
      "execution_count": null,
      "metadata": {
        "colab": {
          "base_uri": "https://localhost:8080/"
        },
        "id": "DjO1iAh91BL7",
        "outputId": "25acfce5-d25c-4a34-972b-60272c892a1e"
      },
      "outputs": [
        {
          "output_type": "stream",
          "name": "stdout",
          "text": [
            "             index  instrument_token         id tradingsymbol timestamps  \\\n",
            "0              0.0             257.0  4374999.0   GOLDSTAR-SM 2019-02-21   \n",
            "300          300.0             257.0  4375001.0   GOLDSTAR-SM 2019-02-25   \n",
            "299          299.0             257.0  4375008.0   GOLDSTAR-SM 2019-03-07   \n",
            "298          298.0             257.0  4375010.0   GOLDSTAR-SM 2019-03-19   \n",
            "297          297.0             257.0  4375013.0   GOLDSTAR-SM 2019-04-22   \n",
            "...            ...               ...        ...           ...        ...   \n",
            "2258905  2258905.0         8150273.0  3083580.0         SREEL 2024-03-28   \n",
            "2258904  2258904.0         8150273.0  3083584.0         SREEL 2024-04-01   \n",
            "2258903  2258903.0         8150273.0  3083588.0         SREEL 2024-04-02   \n",
            "2259347  2259347.0         8150273.0  3083592.0         SREEL 2024-04-03   \n",
            "2259779  2259779.0         8150273.0  3083598.0         SREEL 2024-04-04   \n",
            "\n",
            "         open_price  high_price  low_price  close_price    volume  INDIA VIX  \\\n",
            "0              1.30        1.30       1.15         1.25  405000.0      -5.92   \n",
            "300            1.15        1.30       1.15         1.30  270000.0      -0.58   \n",
            "299            1.20        1.20       1.20         1.20  135000.0      -2.05   \n",
            "298            1.15        1.25       1.15         1.25  540000.0      -2.43   \n",
            "297            1.15        1.15       1.15         1.15  135000.0       5.76   \n",
            "...             ...         ...        ...          ...       ...        ...   \n",
            "2258905      283.00      288.15     270.55       276.40   17496.0       1.02   \n",
            "2258904      276.50      306.00     276.50       292.05   20563.0      -5.85   \n",
            "2258903      293.55      300.05     287.95       296.65   20317.0      -3.56   \n",
            "2259347      296.65      310.20     295.45       307.80   20637.0      -2.40   \n",
            "2259779      309.40      318.10     304.35       306.00   10655.0      -0.97   \n",
            "\n",
            "         NIFTY 50  NIFTY 500  NIFTY AUTO  NIFTY BANK  NIFTY COMMODITIES  \\\n",
            "0            0.51       0.63        0.43        0.36               0.98   \n",
            "300          0.82       0.72        1.12        1.09               0.51   \n",
            "299          0.05      -0.06       -0.19        0.50              -0.88   \n",
            "298          0.61       0.56       -0.70        0.58               0.69   \n",
            "297         -1.35      -1.43       -1.77       -1.77              -1.99   \n",
            "...           ...        ...         ...         ...                ...   \n",
            "2258905      0.92       0.83        1.29        0.72               1.15   \n",
            "2258904      0.61       1.17       -0.16        0.96               2.08   \n",
            "2258903     -0.04       0.38        1.07       -0.07               1.12   \n",
            "2259347     -0.08       0.17       -0.27        0.17               0.19   \n",
            "2259779      0.47       0.39        0.49        1.05              -0.11   \n",
            "\n",
            "         NIFTY CONSR DURBL  NIFTY CONSUMPTION  NIFTY CPSE  NIFTY ENERGY  \\\n",
            "0                     0.99               0.46        0.56          0.80   \n",
            "300                   0.27               0.33        0.13         -0.10   \n",
            "299                  -0.29               0.04       -2.20         -0.10   \n",
            "298                   0.77               0.24        1.17          1.60   \n",
            "297                  -0.22              -0.99       -1.56         -2.40   \n",
            "...                    ...                ...         ...           ...   \n",
            "2258905               0.83               1.11        1.54          0.85   \n",
            "2258904               0.56               0.05        1.87          1.20   \n",
            "2258903               1.86               0.27        1.34          0.52   \n",
            "2259347               0.07              -0.28        0.92          0.03   \n",
            "2259779               0.44               0.49       -0.22         -0.29   \n",
            "\n",
            "         NIFTY FMCG  NIFTY HEALTHCARE  NIFTY INDIA MFG  NIFTY IT  NIFTY MEDIA  \\\n",
            "0              0.39              0.93             0.84     -0.13         1.09   \n",
            "300            0.29              0.58             0.77      2.03        -0.26   \n",
            "299            0.65             -1.14            -0.42     -0.97        -1.85   \n",
            "298            0.86              0.58             0.15      0.89         0.71   \n",
            "297           -0.46             -1.29            -2.02      0.44        -0.90   \n",
            "...             ...               ...              ...       ...          ...   \n",
            "2258905        0.76              1.39             1.06      0.44        -0.70   \n",
            "2258904       -0.11              1.07             1.10      0.41         4.69   \n",
            "2258903        0.39             -0.18             1.16     -0.71         1.85   \n",
            "2259347       -0.43             -0.24            -0.04      0.73         0.57   \n",
            "2259779       -0.28              0.05            -0.10      1.15        -0.12   \n",
            "\n",
            "         NIFTY METAL  NIFTY MICROCAP250  NIFTY PHARMA  NIFTY PSE  \\\n",
            "0               1.13               1.59          1.16       0.30   \n",
            "300             0.35               1.13          0.50      -0.22   \n",
            "299            -0.94               0.41         -1.19      -1.12   \n",
            "298            -0.03               0.17          0.43       1.04   \n",
            "297            -1.79              -1.24         -1.32      -2.00   \n",
            "...              ...                ...           ...        ...   \n",
            "2258905         1.25               0.18          1.21       1.40   \n",
            "2258904         3.70               3.40          1.11       1.87   \n",
            "2258903         1.50               1.71         -0.12       1.67   \n",
            "2259347         0.00               1.57         -0.17       0.86   \n",
            "2259779         0.09               0.57         -0.07      -0.50   \n",
            "\n",
            "         NIFTY PSU BANK  NIFTY PVT BANK  NIFTY REALTY  NIFTY SMLCAP 100  \\\n",
            "0                  0.50            0.35          0.39              1.44   \n",
            "300               -0.23            1.12         -0.73              0.76   \n",
            "299                1.41            0.23         -0.34             -0.34   \n",
            "298                1.87            0.51          0.12              1.00   \n",
            "297               -2.45           -2.05         -2.48             -1.76   \n",
            "...                 ...             ...           ...               ...   \n",
            "2258905            2.62            0.35          0.55              0.04   \n",
            "2258904            1.51            1.03          4.36              3.26   \n",
            "2258903            0.88           -0.07          1.01              1.22   \n",
            "2259347            1.78           -0.15         -2.58              1.16   \n",
            "2259779           -0.47            1.25          0.10              0.53   \n",
            "\n",
            "         %changedaily  %change_weekly  %change_monthly  %change_quarterly  \\\n",
            "0            32161.18       160389.42       1446029.47        14281490.22   \n",
            "300              4.00       160389.42       1446029.47        14281490.22   \n",
            "299             -7.69       160389.42       1446029.47        14281490.22   \n",
            "298              4.17       160389.42       1446029.47        14281490.22   \n",
            "297             -8.00       160389.42       1446029.47        14281490.22   \n",
            "...               ...             ...              ...                ...   \n",
            "2258905         -1.44           -4.13           -12.78             -31.70   \n",
            "2258904          5.66            0.59            -6.02             -26.46   \n",
            "2258903          1.58            2.63            -3.01             -27.00   \n",
            "2259347          3.76            9.48            -0.79             -19.59   \n",
            "2259779         -0.58            9.11            -3.33             -19.48   \n",
            "\n",
            "         %change_yearly   EMA_5  EMA_75  EMA_200  RSI_9  RSI_14  RSI_21  \\\n",
            "0             369079.51    1.25    1.25     1.25  50.17   50.63   51.03   \n",
            "300           369079.51    1.28    1.28     1.28  50.17   50.63   51.03   \n",
            "299           369079.51    1.24    1.25     1.25  50.17   50.63   51.03   \n",
            "298           369079.51    1.25    1.25     1.25  50.17   50.63   51.03   \n",
            "297           369079.51    1.21    1.23     1.23  50.17   50.63   51.03   \n",
            "...                 ...     ...     ...      ...    ...     ...     ...   \n",
            "2258905           64.38  282.03  316.39   286.79  19.76   33.97   35.12   \n",
            "2258904           72.25  285.37  315.75   286.84  54.65   40.52   43.58   \n",
            "2258903           76.11  289.13  315.25   286.94  54.59   46.84   46.83   \n",
            "2259347           85.14  295.35  315.05   287.14  68.90   58.17   49.19   \n",
            "2259779           86.02  298.90  314.81   287.33  67.99   67.14   46.42   \n",
            "\n",
            "          MACD  MACD_signal  %change_close_VWAP  %change_close_VWAP_monthly  \\\n",
            "0         0.00         0.00                0.36                        0.14   \n",
            "300       0.00         0.00                0.36                        0.14   \n",
            "299      -0.00         0.00                0.36                        0.14   \n",
            "298      -0.00         0.00                0.36                        0.14   \n",
            "297      -0.01        -0.00               -7.66                        0.14   \n",
            "...        ...          ...                 ...                         ...   \n",
            "2258905 -13.05       -13.10               -2.46                       -5.97   \n",
            "2258904 -11.81       -12.84                2.82                       -0.23   \n",
            "2258903 -10.33       -12.34                3.86                        1.53   \n",
            "2259347  -8.17       -11.51                5.79                        5.18   \n",
            "2259779  -6.52       -10.51                3.62                        4.50   \n",
            "\n",
            "         %change_close_VWAP_yearly   CCI_9  CCI_14  CCI_21  \\\n",
            "0                             8.47    1.36    1.12    1.36   \n",
            "300                           8.47  144.00  135.32   72.76   \n",
            "299                           8.47   97.30   57.34   39.22   \n",
            "298                           8.47  135.26   80.70   52.80   \n",
            "297                           8.47   40.84   -2.75    8.76   \n",
            "...                            ...     ...     ...     ...   \n",
            "2258905                      -8.63 -113.28  -72.98  -61.16   \n",
            "2258904                      -3.58  -99.45  -54.20  -41.30   \n",
            "2258903                      -2.07  -30.49  -51.97  -35.99   \n",
            "2259347                       1.56  315.79  394.40  485.79   \n",
            "2259779                       0.85  559.78  818.22  946.04   \n",
            "\n",
            "         %diff_52_week_high  %diff_from_52_week_low  Volume_ROC_7     PVROC_7  \\\n",
            "0                    -22.40            6.373803e+08       4633.78  4917729.84   \n",
            "300                  -22.40            6.373803e+08       4633.78  4917729.84   \n",
            "299                  -22.40            6.373803e+08       4633.78  4917729.84   \n",
            "298                  -22.40            6.373803e+08       4633.78  4917729.84   \n",
            "297                  -22.40            6.373803e+08       4633.78  4917729.84   \n",
            "...                     ...                     ...           ...         ...   \n",
            "2258905              -31.98            6.802000e+01         63.96     -360.30   \n",
            "2258904              -28.13            7.754000e+01         87.67       78.75   \n",
            "2258903              -27.00            8.033000e+01         25.41       73.58   \n",
            "2259347              -24.25            8.711000e+01         27.29      164.04   \n",
            "2259779              -24.70            8.428000e+01        -47.05     -275.88   \n",
            "\n",
            "         Volume_ROC_14    PVROC_14  Volume_ROC_28    PVROC_28  Volume_ROC_56  \\\n",
            "0              5368.02  7094037.04        3922.51  1370287.46        4273.44   \n",
            "300            5368.02  7094037.04        3922.51  1370287.46        4273.44   \n",
            "299            5368.02  7094037.04        3922.51  1370287.46        4273.44   \n",
            "298            5368.02  7094037.04        3922.51  1370287.46        4273.44   \n",
            "297            5368.02  7094037.04        3922.51  1370287.46        4273.44   \n",
            "...                ...         ...            ...         ...            ...   \n",
            "2258905          -4.37       44.04         -50.69      733.95         -71.50   \n",
            "2258904          24.37     -158.74         -32.74      359.28         -56.88   \n",
            "2258903          18.43      -39.51         -13.95      133.12         -63.86   \n",
            "2259347         -21.57     -123.38         -32.36      169.38         -46.63   \n",
            "2259779         -69.71     -764.72         -42.98      219.26         -81.51   \n",
            "\n",
            "           PVROC_56  Volume_ROC_252   PVROC_252          OBV  Volume_RSI_14  \\\n",
            "0        1278783.28         9055.79  1308918.20  110308507.6          49.63   \n",
            "300      1278783.28         9055.79  1308918.20     270000.0          49.63   \n",
            "299      1278783.28         9055.79  1308918.20     135000.0          49.63   \n",
            "298      1278783.28         9055.79  1308918.20     675000.0          49.63   \n",
            "297      1278783.28         9055.79  1308918.20     540000.0          49.63   \n",
            "...             ...             ...         ...          ...            ...   \n",
            "2258905     1938.41          127.25     8192.00    7130770.0          49.38   \n",
            "2258904     1313.04          -47.91    -3461.61    7151333.0          53.06   \n",
            "2258903     1299.01          517.73    39401.86    7171650.0          52.41   \n",
            "2259347      834.64           54.30     4622.86    7192287.0          44.99   \n",
            "2259779     1361.31          -69.37    -5967.07    7181632.0          28.79   \n",
            "\n",
            "                 VPT  MFI_14  CMO_10  momentum_score  future_return_10  \\\n",
            "0        11693963.04   56.10    0.57            0.61             -0.12   \n",
            "300         10800.00   56.10    0.57            0.59             -0.12   \n",
            "299           415.38   56.10    0.57            0.56             -0.00   \n",
            "298         22915.38   56.10    0.57            0.59             -0.00   \n",
            "297         12115.38   56.10    0.57            0.52             -0.00   \n",
            "...              ...     ...     ...             ...               ...   \n",
            "2258905    933785.35   29.81    1.18            0.42               NaN   \n",
            "2258904    934949.64   30.58   -9.79            0.45               NaN   \n",
            "2258903    935269.65   38.07   18.46            0.45               NaN   \n",
            "2259347    936045.32   47.14   28.65            0.46               NaN   \n",
            "2259779    935983.01   56.45   32.87            0.48               NaN   \n",
            "\n",
            "         future_return_22  above_10_percent_return_next_10_days  \\\n",
            "0                   -0.12                                   0.0   \n",
            "300                 -0.15                                   0.0   \n",
            "299                 -0.13                                   0.0   \n",
            "298                 -0.16                                   0.0   \n",
            "297                 -0.04                                   0.0   \n",
            "...                   ...                                   ...   \n",
            "2258905               NaN                                   0.0   \n",
            "2258904               NaN                                   0.0   \n",
            "2258903               NaN                                   0.0   \n",
            "2259347               NaN                                   0.0   \n",
            "2259779               NaN                                   0.0   \n",
            "\n",
            "         above_10_percent_return_next_22_days  \n",
            "0                                         0.0  \n",
            "300                                       0.0  \n",
            "299                                       0.0  \n",
            "298                                       0.0  \n",
            "297                                       0.0  \n",
            "...                                       ...  \n",
            "2258905                                   0.0  \n",
            "2258904                                   0.0  \n",
            "2258903                                   0.0  \n",
            "2259347                                   0.0  \n",
            "2259779                                   0.0  \n",
            "\n",
            "[2259780 rows x 74 columns]\n"
          ]
        }
      ],
      "source": [
        "\n",
        "# Iterate over each column and round only if it's numeric\n",
        "# Including integers, floats, and any other numeric types\n",
        "for column in merged_df.select_dtypes(include=['number']):\n",
        "    merged_df[column] = merged_df[column].astype('float').round(2)\n",
        "\n",
        "# Show the result\n",
        "print(merged_df)"
      ]
    },
    {
      "cell_type": "code",
      "execution_count": null,
      "metadata": {
        "colab": {
          "base_uri": "https://localhost:8080/"
        },
        "id": "q9n1k4Bs1s4w",
        "outputId": "a91565b2-3c1a-4b27-95bf-1b6844c8dd3d"
      },
      "outputs": [
        {
          "output_type": "stream",
          "name": "stdout",
          "text": [
            "SGD Classifier Accuracy: 0.8490841291335145\n",
            "SGD Classifier Classification Report:\n",
            "              precision    recall  f1-score   support\n",
            "\n",
            "         0.0       0.85      1.00      0.92    576124\n",
            "         1.0       0.22      0.00      0.00    101810\n",
            "\n",
            "    accuracy                           0.85    677934\n",
            "   macro avg       0.54      0.50      0.46    677934\n",
            "weighted avg       0.76      0.85      0.78    677934\n",
            "\n"
          ]
        }
      ],
      "source": [
        "# Import necessary libraries\n",
        "from sklearn.ensemble import RandomForestClassifier\n",
        "from sklearn.linear_model import SGDClassifier\n",
        "from sklearn.model_selection import train_test_split\n",
        "from sklearn.metrics import accuracy_score, classification_report\n",
        "from sklearn.impute import SimpleImputer  # Import SimpleImputer\n",
        "import numpy as np\n",
        "\n",
        "# Assuming 'merged_df' has the necessary features and target variable\n",
        "X = merged_df.drop(['above_10_percent_return_next_10_days', 'tradingsymbol'], axis=1)\n",
        "y = merged_df['above_10_percent_return_next_10_days']\n",
        "\n",
        "# Convert datetime columns to Unix timestamp (if any)\n",
        "datetime_cols = X.select_dtypes(include=['datetime64']).columns\n",
        "for col in datetime_cols:\n",
        "    X[col] = X[col].astype('int64') // 10**9\n",
        "\n",
        "# Impute missing values\n",
        "imputer = SimpleImputer(strategy='mean')  # You can choose 'median' or 'most_frequent' as well\n",
        "X = imputer.fit_transform(X)\n",
        "\n",
        "# Check and handle infinite values\n",
        "X = np.where(np.isfinite(X), X, np.nan)  # Replace infinities with NaN\n",
        "imputer = SimpleImputer(strategy='mean')  # You can re-use or create a new imputer\n",
        "X = imputer.fit_transform(X)  # Impute any NaNs created\n",
        "\n",
        "# Split dataset into training and testing sets\n",
        "X_train, X_test, y_train, y_test = train_test_split(X, y, test_size=0.3, random_state=42)\n",
        "\n",
        "# SGDClassifier for Incremental Learning\n",
        "clf = SGDClassifier(random_state=42)\n",
        "\n",
        "# Incremental learning\n",
        "batch_size = 1000  # Adjust based on your memory capacity and dataset size\n",
        "for start in range(0, X_train.shape[0], batch_size):\n",
        "    end = min(start + batch_size, X_train.shape[0])\n",
        "    clf.partial_fit(X_train[start:end], y_train[start:end], classes=np.unique(y_train))\n",
        "\n",
        "# Make predictions and evaluate the model\n",
        "y_pred_sgd = clf.predict(X_test)\n",
        "accuracy_sgd = accuracy_score(y_test, y_pred_sgd)\n",
        "report_sgd = classification_report(y_test, y_pred_sgd)\n",
        "\n",
        "# Print model evaluation results for SGDClassifier\n",
        "print(f'SGD Classifier Accuracy: {accuracy_sgd}\\nSGD Classifier Classification Report:\\n{report_sgd}')\n"
      ]
    },
    {
      "cell_type": "code",
      "execution_count": null,
      "metadata": {
        "colab": {
          "base_uri": "https://localhost:8080/"
        },
        "id": "GqjJgJi7XFDf",
        "outputId": "df890ab5-d27e-481f-8019-0bcc5b4de212"
      },
      "outputs": [
        {
          "output_type": "execute_result",
          "data": {
            "text/plain": [
              "['sgd_classifier_model.joblib']"
            ]
          },
          "metadata": {},
          "execution_count": 58
        }
      ],
      "source": [
        "import joblib\n",
        "\n",
        "# Save the model\n",
        "joblib.dump(clf, 'sgd_classifier_model.joblib')"
      ]
    },
    {
      "cell_type": "code",
      "execution_count": null,
      "metadata": {
        "colab": {
          "base_uri": "https://localhost:8080/"
        },
        "id": "eGwGr_CF9V4Y",
        "outputId": "604fce4f-6261-4b33-e46d-61e4c1d8783c"
      },
      "outputs": [
        {
          "output_type": "stream",
          "name": "stdout",
          "text": [
            "Absolute Return: 24380.00%\n",
            "CAGR: 192.98%\n",
            "Total Strategy Return: 324000054778.00%\n"
          ]
        }
      ],
      "source": [
        "# Assuming you have 'close_price' and 'timestamps' in your merged_df\n",
        "\n",
        "# Get initial and final price for the absolute return calculation\n",
        "initial_price = merged_df['close_price'].iloc[0]\n",
        "final_price = merged_df['close_price'].iloc[-1]\n",
        "\n",
        "# Calculate absolute return\n",
        "absolute_return = (final_price - initial_price) / initial_price\n",
        "\n",
        "# Calculate the number of years for the period\n",
        "period_years = (merged_df['timestamps'].iloc[-1] - merged_df['timestamps'].iloc[0]).days / 365.25\n",
        "\n",
        "# Calculate CAGR\n",
        "cagr = ((final_price / initial_price) ** (1 / period_years)) - 1\n",
        "\n",
        "# Backtesting - simulating trades based on the model's predictions\n",
        "# Assume that we invest in the instrument when the model predicts a return greater than 10% in next 10 or 22 days\n",
        "# This is a simplified example and may need adjustment for actual trading strategy considerations\n",
        "merged_df['predicted'] = clf.predict(X)  # Full dataset predictions\n",
        "merged_df['strategy_return'] = merged_df['predicted'] * merged_df['future_return_10']  # Replace 'future_return_10' as needed\n",
        "\n",
        "# Total strategy return is the sum of individual predicted period returns\n",
        "total_strategy_return = merged_df['strategy_return'].sum()\n",
        "\n",
        "# Display the results\n",
        "print(f'Absolute Return: {absolute_return * 100:.2f}%')\n",
        "print(f'CAGR: {cagr * 100:.2f}%')\n",
        "print(f'Total Strategy Return: {total_strategy_return * 100:.2f}%')\n"
      ]
    },
    {
      "cell_type": "code",
      "execution_count": null,
      "metadata": {
        "colab": {
          "background_save": true
        },
        "id": "eKEWlCiJ-SL1",
        "outputId": "1cc3db8a-dd12-479e-ff49-1fcfb2f0c4a2"
      },
      "outputs": [
        {
          "name": "stdout",
          "output_type": "stream",
          "text": [
            "     entry_date  exit_date  entry_price  exit_price  trade_return\n",
            "3444 2021-11-11 2021-11-26        21.00       34.00      0.619048\n",
            "3445 2021-12-22 2022-01-05        54.15       45.10     -0.167128\n",
            "3446 2019-01-10 2019-01-24        61.25       56.15     -0.083265\n",
            "3447 2020-01-10 2020-01-24        36.60       37.45      0.023224\n",
            "3448 2021-11-22 2021-12-06       351.40      383.45      0.091207\n",
            "Absolute Return: 24380.00%\n",
            "CAGR: 192.98%\n",
            "Total Strategy Return: 775137.34%\n"
          ]
        }
      ],
      "source": [
        "# Create a DataFrame to hold trade details\n",
        "trade_details = []\n",
        "\n",
        "# Iterate through the DataFrame to simulate trades\n",
        "for i in range(len(merged_df) - 10):  # Assuming 10-day future return; adjust as necessary\n",
        "    if merged_df['predicted'].iloc[i] == 1:  # If the model predicts a positive return\n",
        "        entry_price = merged_df['close_price'].iloc[i]\n",
        "        exit_price = merged_df['close_price'].iloc[i + 10]  # Assuming we hold for 10 days\n",
        "\n",
        "        # Avoid division by zero by ensuring entry_price is not zero\n",
        "        if entry_price == 0:\n",
        "            continue  # Skip this trade or handle it in a manner suitable for your context\n",
        "\n",
        "        trade_return = (exit_price - entry_price) / entry_price\n",
        "        trade_details.append({\n",
        "            'entry_date': merged_df['timestamps'].iloc[i],\n",
        "            'exit_date': merged_df['timestamps'].iloc[i + 10],\n",
        "            'entry_price': entry_price,\n",
        "            'exit_price': exit_price,\n",
        "            'trade_return': trade_return\n",
        "        })\n",
        "\n",
        "# Convert trade details into a DataFrame for easier analysis\n",
        "trade_details_df = pd.DataFrame(trade_details)\n",
        "\n",
        "# Now you can analyze trade_details_df for individual trade performances\n",
        "print(trade_details_df.tail())  # Show the last few trades\n",
        "\n",
        "# Update total strategy return to use trade details instead of cumulative sum\n",
        "total_strategy_return = trade_details_df['trade_return'].sum()\n",
        "\n",
        "# Display the updated results\n",
        "print(f'Absolute Return: {absolute_return * 100:.2f}%')\n",
        "print(f'CAGR: {cagr * 100:.2f}%')\n",
        "print(f'Total Strategy Return: {total_strategy_return * 100:.2f}%')\n"
      ]
    },
    {
      "cell_type": "code",
      "execution_count": null,
      "metadata": {
        "colab": {
          "background_save": true
        },
        "id": "U2DQ_7jwCS4l",
        "outputId": "e6fa54a8-2617-42ba-a46a-b390be105160"
      },
      "outputs": [
        {
          "data": {
            "application/javascript": [
              "\n",
              "    async function download(id, filename, size) {\n",
              "      if (!google.colab.kernel.accessAllowed) {\n",
              "        return;\n",
              "      }\n",
              "      const div = document.createElement('div');\n",
              "      const label = document.createElement('label');\n",
              "      label.textContent = `Downloading \"${filename}\": `;\n",
              "      div.appendChild(label);\n",
              "      const progress = document.createElement('progress');\n",
              "      progress.max = size;\n",
              "      div.appendChild(progress);\n",
              "      document.body.appendChild(div);\n",
              "\n",
              "      const buffers = [];\n",
              "      let downloaded = 0;\n",
              "\n",
              "      const channel = await google.colab.kernel.comms.open(id);\n",
              "      // Send a message to notify the kernel that we're ready.\n",
              "      channel.send({})\n",
              "\n",
              "      for await (const message of channel.messages) {\n",
              "        // Send a message to notify the kernel that we're ready.\n",
              "        channel.send({})\n",
              "        if (message.buffers) {\n",
              "          for (const buffer of message.buffers) {\n",
              "            buffers.push(buffer);\n",
              "            downloaded += buffer.byteLength;\n",
              "            progress.value = downloaded;\n",
              "          }\n",
              "        }\n",
              "      }\n",
              "      const blob = new Blob(buffers, {type: 'application/binary'});\n",
              "      const a = document.createElement('a');\n",
              "      a.href = window.URL.createObjectURL(blob);\n",
              "      a.download = filename;\n",
              "      div.appendChild(a);\n",
              "      a.click();\n",
              "      div.remove();\n",
              "    }\n",
              "  "
            ],
            "text/plain": [
              "<IPython.core.display.Javascript object>"
            ]
          },
          "metadata": {},
          "output_type": "display_data"
        },
        {
          "data": {
            "application/javascript": [
              "download(\"download_03ae8dfd-a3e7-4bf8-aa31-760a0c1233cb\", \"trade_details.csv\", 176258)"
            ],
            "text/plain": [
              "<IPython.core.display.Javascript object>"
            ]
          },
          "metadata": {},
          "output_type": "display_data"
        }
      ],
      "source": [
        "# Export the DataFrame to a CSV file\n",
        "trade_details_df.to_csv('trade_details.csv', index=False)\n",
        "\n",
        "# Use the Colab 'files' module to download the file to your local machine\n",
        "# from google.colab import files\n",
        "# files.download('trade_details.csv')"
      ]
    },
    {
      "cell_type": "code",
      "execution_count": null,
      "metadata": {
        "colab": {
          "base_uri": "https://localhost:8080/"
        },
        "id": "kwzNyW6D3qXj",
        "outputId": "e1dbe3f0-dc3a-4a64-f281-d5d3b9b129ea"
      },
      "outputs": [
        {
          "output_type": "stream",
          "name": "stdout",
          "text": [
            "Epoch 1/20\n",
            "49433/49433 [==============================] - 110s 2ms/step - loss: nan - accuracy: 0.8500\n",
            "Epoch 2/20\n",
            "49433/49433 [==============================] - 110s 2ms/step - loss: nan - accuracy: 0.8500\n",
            "Epoch 3/20\n",
            "49433/49433 [==============================] - 115s 2ms/step - loss: nan - accuracy: 0.8500\n",
            "Epoch 4/20\n",
            "49433/49433 [==============================] - 194s 4ms/step - loss: nan - accuracy: 0.8500\n",
            "Epoch 5/20\n",
            "49433/49433 [==============================] - 232s 5ms/step - loss: nan - accuracy: 0.8500\n",
            "Epoch 6/20\n",
            "49433/49433 [==============================] - 237s 5ms/step - loss: nan - accuracy: 0.8500\n",
            "Epoch 7/20\n",
            "49433/49433 [==============================] - 241s 5ms/step - loss: nan - accuracy: 0.8500\n",
            "Epoch 8/20\n",
            "49433/49433 [==============================] - 245s 5ms/step - loss: nan - accuracy: 0.8500\n",
            "Epoch 9/20\n",
            "49433/49433 [==============================] - 228s 5ms/step - loss: nan - accuracy: 0.8500\n",
            "Epoch 10/20\n",
            "49433/49433 [==============================] - 243s 5ms/step - loss: nan - accuracy: 0.8500\n",
            "Epoch 11/20\n",
            "49433/49433 [==============================] - 233s 5ms/step - loss: nan - accuracy: 0.8500\n",
            "Epoch 12/20\n",
            "49433/49433 [==============================] - 230s 5ms/step - loss: nan - accuracy: 0.8500\n",
            "Epoch 13/20\n",
            "49433/49433 [==============================] - 226s 5ms/step - loss: nan - accuracy: 0.8500\n",
            "Epoch 14/20\n",
            "49433/49433 [==============================] - 232s 5ms/step - loss: nan - accuracy: 0.8500\n",
            "Epoch 15/20\n",
            "49433/49433 [==============================] - 232s 5ms/step - loss: nan - accuracy: 0.8500\n",
            "Epoch 16/20\n",
            "49433/49433 [==============================] - 226s 5ms/step - loss: nan - accuracy: 0.8500\n",
            "Epoch 17/20\n",
            "49433/49433 [==============================] - 214s 4ms/step - loss: nan - accuracy: 0.8500\n",
            "Epoch 18/20\n",
            "49433/49433 [==============================] - 225s 5ms/step - loss: nan - accuracy: 0.8500\n",
            "Epoch 19/20\n",
            "49433/49433 [==============================] - 195s 4ms/step - loss: nan - accuracy: 0.8500\n",
            "Epoch 20/20\n",
            "49433/49433 [==============================] - 196s 4ms/step - loss: nan - accuracy: 0.8500\n"
          ]
        },
        {
          "output_type": "stream",
          "name": "stderr",
          "text": [
            "/usr/local/lib/python3.10/dist-packages/keras/src/engine/training.py:3103: UserWarning: You are saving your model as an HDF5 file via `model.save()`. This file format is considered legacy. We recommend using instead the native Keras format, e.g. `model.save('my_model.keras')`.\n",
            "  saving_api.save_model(\n"
          ]
        },
        {
          "output_type": "stream",
          "name": "stdout",
          "text": [
            "21186/21186 [==============================] - 61s 3ms/step\n",
            "Accuracy: 0.8498113385668812\n",
            "Classification Report:\n",
            "              precision    recall  f1-score   support\n",
            "\n",
            "         0.0       0.85      1.00      0.92    576116\n",
            "         1.0       0.00      0.00      0.00    101818\n",
            "\n",
            "    accuracy                           0.85    677934\n",
            "   macro avg       0.42      0.50      0.46    677934\n",
            "weighted avg       0.72      0.85      0.78    677934\n",
            "\n"
          ]
        },
        {
          "output_type": "stream",
          "name": "stderr",
          "text": [
            "/usr/local/lib/python3.10/dist-packages/sklearn/metrics/_classification.py:1344: UndefinedMetricWarning: Precision and F-score are ill-defined and being set to 0.0 in labels with no predicted samples. Use `zero_division` parameter to control this behavior.\n",
            "  _warn_prf(average, modifier, msg_start, len(result))\n",
            "/usr/local/lib/python3.10/dist-packages/sklearn/metrics/_classification.py:1344: UndefinedMetricWarning: Precision and F-score are ill-defined and being set to 0.0 in labels with no predicted samples. Use `zero_division` parameter to control this behavior.\n",
            "  _warn_prf(average, modifier, msg_start, len(result))\n"
          ]
        }
      ],
      "source": [
        "from tensorflow.keras.models import Sequential, load_model\n",
        "from tensorflow.keras.layers import Dense\n",
        "from sklearn.model_selection import train_test_split\n",
        "from sklearn.metrics import classification_report, accuracy_score\n",
        "from sklearn.preprocessing import StandardScaler\n",
        "import pandas as pd\n",
        "\n",
        "# Assuming merged_df is preloaded and has the necessary features including a 'timestamps' column\n",
        "\n",
        "# Convert timestamps to Unix time (numeric)\n",
        "merged_df['timestamps'] = pd.to_datetime(merged_df['timestamps']).astype('int64') // 10**9\n",
        "\n",
        "# Define features (X) and target (y)\n",
        "X = merged_df.drop(['above_10_percent_return_next_10_days', 'tradingsymbol'], axis=1)\n",
        "y = merged_df['above_10_percent_return_next_10_days']\n",
        "\n",
        "# Split the data into training and testing sets\n",
        "X_train, X_test, y_train, y_test = train_test_split(X, y, test_size=0.3, random_state=42)\n",
        "\n",
        "# Free memory\n",
        "del X, y, merged_df\n",
        "\n",
        "# Normalize the feature data\n",
        "scaler = StandardScaler()\n",
        "X_train_scaled = scaler.fit_transform(X_train)\n",
        "X_test_scaled = scaler.transform(X_test)\n",
        "\n",
        "# Free memory\n",
        "del X_train, X_test\n",
        "\n",
        "# Initialize the neural network model\n",
        "model = Sequential([\n",
        "    Dense(128, activation='relu', input_shape=(X_train_scaled.shape[1],)),\n",
        "    Dense(64, activation='relu'),\n",
        "    Dense(1, activation='sigmoid')\n",
        "])\n",
        "\n",
        "# Compile the model\n",
        "model.compile(optimizer='adam', loss='binary_crossentropy', metrics=['accuracy'])\n",
        "\n",
        "# Train the model\n",
        "model.fit(X_train_scaled, y_train, epochs=20, batch_size=32)\n",
        "\n",
        "# Save the model\n",
        "model.save('my_model.h5')\n",
        "\n",
        "# Free memory\n",
        "del X_train_scaled, y_train\n",
        "\n",
        "# Predict on the testing set\n",
        "y_pred = model.predict(X_test_scaled)\n",
        "y_pred = (y_pred > 0.5).astype(int)\n",
        "\n",
        "# Evaluate the model\n",
        "accuracy = accuracy_score(y_test, y_pred)\n",
        "report = classification_report(y_test, y_pred)\n",
        "\n",
        "# Print results\n",
        "print(f'Accuracy: {accuracy}')\n",
        "print(f'Classification Report:\\n{report}')\n",
        "\n",
        "# Free memory if needed\n",
        "del model, X_test_scaled, y_test, y_pred\n",
        "\n",
        "# To load the model later, you can use:\n",
        "# model = load_model('my_model.h5')\n"
      ]
    }
  ],
  "metadata": {
    "colab": {
      "provenance": []
    },
    "kernelspec": {
      "display_name": "Python 3 (ipykernel)",
      "language": "python",
      "name": "python3"
    },
    "language_info": {
      "codemirror_mode": {
        "name": "ipython",
        "version": 3
      },
      "file_extension": ".py",
      "mimetype": "text/x-python",
      "name": "python",
      "nbconvert_exporter": "python",
      "pygments_lexer": "ipython3",
      "version": "3.10.12"
    }
  },
  "nbformat": 4,
  "nbformat_minor": 0
}